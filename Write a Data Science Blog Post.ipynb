{
 "cells": [
  {
   "cell_type": "code",
   "execution_count": 1,
   "id": "74d2b2b1",
   "metadata": {},
   "outputs": [],
   "source": [
    "import numpy as np\n",
    "import pandas as pd\n",
    "import matplotlib.pyplot as plt\n",
    "from sklearn.linear_model import LinearRegression\n",
    "from sklearn.model_selection import train_test_split\n",
    "from sklearn.metrics import r2_score, mean_squared_error\n",
    "import seaborn as sns\n",
    "%matplotlib inline"
   ]
  },
  {
   "cell_type": "markdown",
   "id": "3fd6c7f5",
   "metadata": {},
   "source": [
    "# Business Understanding"
   ]
  },
  {
   "cell_type": "markdown",
   "id": "ee928a34",
   "metadata": {},
   "source": [
    "Stack Overflow is a Q&A website for programmers, and the annual developer survey examines aspects related to the developers experience, such as job search, job satisfaction, education, career, etc. These datasets could give us some insights about working in large companies, or even how could we start our own coding business based on what developers answered."
   ]
  },
  {
   "cell_type": "markdown",
   "id": "a5a3dc85",
   "metadata": {},
   "source": [
    "# Data Understanding"
   ]
  },
  {
   "cell_type": "markdown",
   "id": "7a33127a",
   "metadata": {},
   "source": [
    "For this project, we will be using four datasets from Stackoverflow, with results of annual developer survey from 2019 to 2020"
   ]
  },
  {
   "cell_type": "code",
   "execution_count": 2,
   "id": "1c4eec1c",
   "metadata": {
    "scrolled": true
   },
   "outputs": [],
   "source": [
    "df_2019 = pd.read_csv('survey_results_public_2019.csv',low_memory=False)\n",
    "df_2020 = pd.read_csv('survey_results_public_2020.csv',low_memory=False)"
   ]
  },
  {
   "cell_type": "code",
   "execution_count": 3,
   "id": "30e4014b",
   "metadata": {},
   "outputs": [
    {
     "data": {
      "text/plain": [
       "(88883, 85)"
      ]
     },
     "execution_count": 3,
     "metadata": {},
     "output_type": "execute_result"
    }
   ],
   "source": [
    "# Number of rows and columns in df_2019\n",
    "df_2019.shape"
   ]
  },
  {
   "cell_type": "code",
   "execution_count": 4,
   "id": "b15ccb9d",
   "metadata": {},
   "outputs": [
    {
     "data": {
      "text/plain": [
       "(64461, 61)"
      ]
     },
     "execution_count": 4,
     "metadata": {},
     "output_type": "execute_result"
    }
   ],
   "source": [
    "# Number of rows and columns in df_2020\n",
    "df_2020.shape"
   ]
  },
  {
   "cell_type": "markdown",
   "id": "6637c615",
   "metadata": {},
   "source": [
    "As we could see, 2019 had more respondants and more questions. Let's check which questions were used on both years, so we can use them to compare the differeces between 2019 and 2020:"
   ]
  },
  {
   "cell_type": "code",
   "execution_count": 5,
   "id": "7993cfa9",
   "metadata": {},
   "outputs": [],
   "source": [
    "schema_2019 = pd.read_csv('survey_results_schema_2019.csv',low_memory=False)\n",
    "schema_2020 = pd.read_csv('survey_results_schema_2020.csv',low_memory=False)"
   ]
  },
  {
   "cell_type": "code",
   "execution_count": 6,
   "id": "1bfd0ad7",
   "metadata": {},
   "outputs": [
    {
     "data": {
      "text/html": [
       "<div>\n",
       "<style scoped>\n",
       "    .dataframe tbody tr th:only-of-type {\n",
       "        vertical-align: middle;\n",
       "    }\n",
       "\n",
       "    .dataframe tbody tr th {\n",
       "        vertical-align: top;\n",
       "    }\n",
       "\n",
       "    .dataframe thead th {\n",
       "        text-align: right;\n",
       "    }\n",
       "</style>\n",
       "<table border=\"1\" class=\"dataframe\">\n",
       "  <thead>\n",
       "    <tr style=\"text-align: right;\">\n",
       "      <th></th>\n",
       "      <th>Column</th>\n",
       "      <th>Question_2019</th>\n",
       "      <th>Question_2020</th>\n",
       "    </tr>\n",
       "  </thead>\n",
       "  <tbody>\n",
       "    <tr>\n",
       "      <th>0</th>\n",
       "      <td>Respondent</td>\n",
       "      <td>Randomized respondent ID number (not in order ...</td>\n",
       "      <td>Randomized respondent ID number (not in order ...</td>\n",
       "    </tr>\n",
       "    <tr>\n",
       "      <th>1</th>\n",
       "      <td>MainBranch</td>\n",
       "      <td>Which of the following options best describes ...</td>\n",
       "      <td>Which of the following options best describes ...</td>\n",
       "    </tr>\n",
       "    <tr>\n",
       "      <th>2</th>\n",
       "      <td>Hobbyist</td>\n",
       "      <td>Do you code as a hobby?</td>\n",
       "      <td>Do you code as a hobby?</td>\n",
       "    </tr>\n",
       "    <tr>\n",
       "      <th>3</th>\n",
       "      <td>Employment</td>\n",
       "      <td>Which of the following best describes your cur...</td>\n",
       "      <td>Which of the following best describes your cur...</td>\n",
       "    </tr>\n",
       "    <tr>\n",
       "      <th>4</th>\n",
       "      <td>Country</td>\n",
       "      <td>In which country do you currently reside?</td>\n",
       "      <td>Where do you live?</td>\n",
       "    </tr>\n",
       "    <tr>\n",
       "      <th>5</th>\n",
       "      <td>EdLevel</td>\n",
       "      <td>Which of the following best describes the high...</td>\n",
       "      <td>Which of the following best describes the high...</td>\n",
       "    </tr>\n",
       "    <tr>\n",
       "      <th>6</th>\n",
       "      <td>UndergradMajor</td>\n",
       "      <td>What was your main or most important field of ...</td>\n",
       "      <td>What was your primary field of study?</td>\n",
       "    </tr>\n",
       "    <tr>\n",
       "      <th>7</th>\n",
       "      <td>OrgSize</td>\n",
       "      <td>Approximately how many people are employed by ...</td>\n",
       "      <td>Approximately how many people are employed by ...</td>\n",
       "    </tr>\n",
       "    <tr>\n",
       "      <th>8</th>\n",
       "      <td>DevType</td>\n",
       "      <td>Which of the following describe you? Please se...</td>\n",
       "      <td>Which of the following describe you? Please se...</td>\n",
       "    </tr>\n",
       "    <tr>\n",
       "      <th>9</th>\n",
       "      <td>YearsCode</td>\n",
       "      <td>Including any education, how many years have y...</td>\n",
       "      <td>Including any education, how many years have y...</td>\n",
       "    </tr>\n",
       "    <tr>\n",
       "      <th>10</th>\n",
       "      <td>Age1stCode</td>\n",
       "      <td>At what age did you write your first line of c...</td>\n",
       "      <td>At what age did you write your first line of c...</td>\n",
       "    </tr>\n",
       "    <tr>\n",
       "      <th>11</th>\n",
       "      <td>YearsCodePro</td>\n",
       "      <td>How many years have you coded professionally (...</td>\n",
       "      <td>NOT including education, how many years have y...</td>\n",
       "    </tr>\n",
       "    <tr>\n",
       "      <th>12</th>\n",
       "      <td>JobSat</td>\n",
       "      <td>How satisfied are you with your current job? (...</td>\n",
       "      <td>How satisfied are you with your current job? (...</td>\n",
       "    </tr>\n",
       "    <tr>\n",
       "      <th>13</th>\n",
       "      <td>JobSeek</td>\n",
       "      <td>Which of the following best describes your cur...</td>\n",
       "      <td>Which of the following best describes your cur...</td>\n",
       "    </tr>\n",
       "    <tr>\n",
       "      <th>14</th>\n",
       "      <td>JobFactors</td>\n",
       "      <td>Imagine that you are deciding between two job ...</td>\n",
       "      <td>Imagine that you are deciding between two job ...</td>\n",
       "    </tr>\n",
       "    <tr>\n",
       "      <th>15</th>\n",
       "      <td>CurrencySymbol</td>\n",
       "      <td>Which currency do you use day-to-day? If your ...</td>\n",
       "      <td>Which currency do you use day-to-day? If your ...</td>\n",
       "    </tr>\n",
       "    <tr>\n",
       "      <th>16</th>\n",
       "      <td>CurrencyDesc</td>\n",
       "      <td>Which currency do you use day-to-day? If your ...</td>\n",
       "      <td>Which currency do you use day-to-day? If your ...</td>\n",
       "    </tr>\n",
       "    <tr>\n",
       "      <th>17</th>\n",
       "      <td>CompTotal</td>\n",
       "      <td>What is your current total compensation (salar...</td>\n",
       "      <td>What is your current total compensation (salar...</td>\n",
       "    </tr>\n",
       "    <tr>\n",
       "      <th>18</th>\n",
       "      <td>CompFreq</td>\n",
       "      <td>Is that compensation weekly, monthly, or yearly?</td>\n",
       "      <td>Is that compensation weekly, monthly, or yearly?</td>\n",
       "    </tr>\n",
       "    <tr>\n",
       "      <th>19</th>\n",
       "      <td>ConvertedComp</td>\n",
       "      <td>Salary converted to annual USD salaries using ...</td>\n",
       "      <td>Salary converted to annual USD salaries using ...</td>\n",
       "    </tr>\n",
       "    <tr>\n",
       "      <th>20</th>\n",
       "      <td>WorkWeekHrs</td>\n",
       "      <td>On average, how many hours per week do you work?</td>\n",
       "      <td>On average, how many hours per week do you wor...</td>\n",
       "    </tr>\n",
       "    <tr>\n",
       "      <th>21</th>\n",
       "      <td>PurchaseWhat</td>\n",
       "      <td>What level of influence do you, personally, ha...</td>\n",
       "      <td>What level of influence do you, personally, ha...</td>\n",
       "    </tr>\n",
       "    <tr>\n",
       "      <th>22</th>\n",
       "      <td>LanguageWorkedWith</td>\n",
       "      <td>Which of the following programming, scripting,...</td>\n",
       "      <td>Which programming, scripting, and markup langu...</td>\n",
       "    </tr>\n",
       "    <tr>\n",
       "      <th>23</th>\n",
       "      <td>LanguageDesireNextYear</td>\n",
       "      <td>Which of the following programming, scripting,...</td>\n",
       "      <td>Which programming, scripting, and markup langu...</td>\n",
       "    </tr>\n",
       "    <tr>\n",
       "      <th>24</th>\n",
       "      <td>DatabaseWorkedWith</td>\n",
       "      <td>Which of the following database environments h...</td>\n",
       "      <td>Which database environments have you done exte...</td>\n",
       "    </tr>\n",
       "    <tr>\n",
       "      <th>25</th>\n",
       "      <td>DatabaseDesireNextYear</td>\n",
       "      <td>Which of the following database environments h...</td>\n",
       "      <td>Which database environments have you done exte...</td>\n",
       "    </tr>\n",
       "    <tr>\n",
       "      <th>26</th>\n",
       "      <td>PlatformWorkedWith</td>\n",
       "      <td>Which of the following platforms have you done...</td>\n",
       "      <td>Which platforms have you done extensive develo...</td>\n",
       "    </tr>\n",
       "    <tr>\n",
       "      <th>27</th>\n",
       "      <td>PlatformDesireNextYear</td>\n",
       "      <td>Which of the following platforms have you done...</td>\n",
       "      <td>Which platforms have you done extensive develo...</td>\n",
       "    </tr>\n",
       "    <tr>\n",
       "      <th>28</th>\n",
       "      <td>MiscTechWorkedWith</td>\n",
       "      <td>Which of the following other frameworks, libra...</td>\n",
       "      <td>Which other frameworks, libraries, and tools h...</td>\n",
       "    </tr>\n",
       "    <tr>\n",
       "      <th>29</th>\n",
       "      <td>MiscTechDesireNextYear</td>\n",
       "      <td>Which of the following other frameworks, libra...</td>\n",
       "      <td>Which other frameworks, libraries, and tools h...</td>\n",
       "    </tr>\n",
       "    <tr>\n",
       "      <th>30</th>\n",
       "      <td>OpSys</td>\n",
       "      <td>What is the primary operating system in which ...</td>\n",
       "      <td>What is the primary operating system in which ...</td>\n",
       "    </tr>\n",
       "    <tr>\n",
       "      <th>31</th>\n",
       "      <td>SOVisitFreq</td>\n",
       "      <td>How frequently would you say you visit Stack O...</td>\n",
       "      <td>How frequently would you say you visit Stack O...</td>\n",
       "    </tr>\n",
       "    <tr>\n",
       "      <th>32</th>\n",
       "      <td>SOAccount</td>\n",
       "      <td>Do you have a Stack Overflow account?</td>\n",
       "      <td>Do you have a Stack Overflow account?</td>\n",
       "    </tr>\n",
       "    <tr>\n",
       "      <th>33</th>\n",
       "      <td>SOPartFreq</td>\n",
       "      <td>How frequently would you say you participate i...</td>\n",
       "      <td>How frequently would you say you participate i...</td>\n",
       "    </tr>\n",
       "    <tr>\n",
       "      <th>34</th>\n",
       "      <td>SOComm</td>\n",
       "      <td>Do you consider yourself a member of the Stack...</td>\n",
       "      <td>Do you consider yourself a member of the Stack...</td>\n",
       "    </tr>\n",
       "    <tr>\n",
       "      <th>35</th>\n",
       "      <td>WelcomeChange</td>\n",
       "      <td>Compared to last year, how welcome do you feel...</td>\n",
       "      <td>Compared to last year, how welcome do you feel...</td>\n",
       "    </tr>\n",
       "    <tr>\n",
       "      <th>36</th>\n",
       "      <td>Age</td>\n",
       "      <td>What is your age (in years)? If you prefer not...</td>\n",
       "      <td>What is your age (in years)? If you prefer not...</td>\n",
       "    </tr>\n",
       "    <tr>\n",
       "      <th>37</th>\n",
       "      <td>Gender</td>\n",
       "      <td>Which of the following do you currently identi...</td>\n",
       "      <td>Which of the following describe you, if any? P...</td>\n",
       "    </tr>\n",
       "    <tr>\n",
       "      <th>38</th>\n",
       "      <td>Trans</td>\n",
       "      <td>Do you identify as transgender?</td>\n",
       "      <td>Are you transgender?</td>\n",
       "    </tr>\n",
       "    <tr>\n",
       "      <th>39</th>\n",
       "      <td>Sexuality</td>\n",
       "      <td>Which of the following do you currently identi...</td>\n",
       "      <td>Which of the following describe you, if any? P...</td>\n",
       "    </tr>\n",
       "    <tr>\n",
       "      <th>40</th>\n",
       "      <td>Ethnicity</td>\n",
       "      <td>Which of the following do you identify as? Ple...</td>\n",
       "      <td>Which of the following describe you, if any? P...</td>\n",
       "    </tr>\n",
       "    <tr>\n",
       "      <th>41</th>\n",
       "      <td>SurveyLength</td>\n",
       "      <td>How do you feel about the length of the survey...</td>\n",
       "      <td>How do you feel about the length of the survey...</td>\n",
       "    </tr>\n",
       "    <tr>\n",
       "      <th>42</th>\n",
       "      <td>SurveyEase</td>\n",
       "      <td>How easy or difficult was this survey to compl...</td>\n",
       "      <td>How easy or difficult was this survey to compl...</td>\n",
       "    </tr>\n",
       "  </tbody>\n",
       "</table>\n",
       "</div>"
      ],
      "text/plain": [
       "                    Column                                      Question_2019  \\\n",
       "0               Respondent  Randomized respondent ID number (not in order ...   \n",
       "1               MainBranch  Which of the following options best describes ...   \n",
       "2                 Hobbyist                            Do you code as a hobby?   \n",
       "3               Employment  Which of the following best describes your cur...   \n",
       "4                  Country          In which country do you currently reside?   \n",
       "5                  EdLevel  Which of the following best describes the high...   \n",
       "6           UndergradMajor  What was your main or most important field of ...   \n",
       "7                  OrgSize  Approximately how many people are employed by ...   \n",
       "8                  DevType  Which of the following describe you? Please se...   \n",
       "9                YearsCode  Including any education, how many years have y...   \n",
       "10              Age1stCode  At what age did you write your first line of c...   \n",
       "11            YearsCodePro  How many years have you coded professionally (...   \n",
       "12                  JobSat  How satisfied are you with your current job? (...   \n",
       "13                 JobSeek  Which of the following best describes your cur...   \n",
       "14              JobFactors  Imagine that you are deciding between two job ...   \n",
       "15          CurrencySymbol  Which currency do you use day-to-day? If your ...   \n",
       "16            CurrencyDesc  Which currency do you use day-to-day? If your ...   \n",
       "17               CompTotal  What is your current total compensation (salar...   \n",
       "18                CompFreq   Is that compensation weekly, monthly, or yearly?   \n",
       "19           ConvertedComp  Salary converted to annual USD salaries using ...   \n",
       "20             WorkWeekHrs   On average, how many hours per week do you work?   \n",
       "21            PurchaseWhat  What level of influence do you, personally, ha...   \n",
       "22      LanguageWorkedWith  Which of the following programming, scripting,...   \n",
       "23  LanguageDesireNextYear  Which of the following programming, scripting,...   \n",
       "24      DatabaseWorkedWith  Which of the following database environments h...   \n",
       "25  DatabaseDesireNextYear  Which of the following database environments h...   \n",
       "26      PlatformWorkedWith  Which of the following platforms have you done...   \n",
       "27  PlatformDesireNextYear  Which of the following platforms have you done...   \n",
       "28      MiscTechWorkedWith  Which of the following other frameworks, libra...   \n",
       "29  MiscTechDesireNextYear  Which of the following other frameworks, libra...   \n",
       "30                   OpSys  What is the primary operating system in which ...   \n",
       "31             SOVisitFreq  How frequently would you say you visit Stack O...   \n",
       "32               SOAccount              Do you have a Stack Overflow account?   \n",
       "33              SOPartFreq  How frequently would you say you participate i...   \n",
       "34                  SOComm  Do you consider yourself a member of the Stack...   \n",
       "35           WelcomeChange  Compared to last year, how welcome do you feel...   \n",
       "36                     Age  What is your age (in years)? If you prefer not...   \n",
       "37                  Gender  Which of the following do you currently identi...   \n",
       "38                   Trans                    Do you identify as transgender?   \n",
       "39               Sexuality  Which of the following do you currently identi...   \n",
       "40               Ethnicity  Which of the following do you identify as? Ple...   \n",
       "41            SurveyLength  How do you feel about the length of the survey...   \n",
       "42              SurveyEase  How easy or difficult was this survey to compl...   \n",
       "\n",
       "                                        Question_2020  \n",
       "0   Randomized respondent ID number (not in order ...  \n",
       "1   Which of the following options best describes ...  \n",
       "2                             Do you code as a hobby?  \n",
       "3   Which of the following best describes your cur...  \n",
       "4                                  Where do you live?  \n",
       "5   Which of the following best describes the high...  \n",
       "6               What was your primary field of study?  \n",
       "7   Approximately how many people are employed by ...  \n",
       "8   Which of the following describe you? Please se...  \n",
       "9   Including any education, how many years have y...  \n",
       "10  At what age did you write your first line of c...  \n",
       "11  NOT including education, how many years have y...  \n",
       "12  How satisfied are you with your current job? (...  \n",
       "13  Which of the following best describes your cur...  \n",
       "14  Imagine that you are deciding between two job ...  \n",
       "15  Which currency do you use day-to-day? If your ...  \n",
       "16  Which currency do you use day-to-day? If your ...  \n",
       "17  What is your current total compensation (salar...  \n",
       "18   Is that compensation weekly, monthly, or yearly?  \n",
       "19  Salary converted to annual USD salaries using ...  \n",
       "20  On average, how many hours per week do you wor...  \n",
       "21  What level of influence do you, personally, ha...  \n",
       "22  Which programming, scripting, and markup langu...  \n",
       "23  Which programming, scripting, and markup langu...  \n",
       "24  Which database environments have you done exte...  \n",
       "25  Which database environments have you done exte...  \n",
       "26  Which platforms have you done extensive develo...  \n",
       "27  Which platforms have you done extensive develo...  \n",
       "28  Which other frameworks, libraries, and tools h...  \n",
       "29  Which other frameworks, libraries, and tools h...  \n",
       "30  What is the primary operating system in which ...  \n",
       "31  How frequently would you say you visit Stack O...  \n",
       "32              Do you have a Stack Overflow account?  \n",
       "33  How frequently would you say you participate i...  \n",
       "34  Do you consider yourself a member of the Stack...  \n",
       "35  Compared to last year, how welcome do you feel...  \n",
       "36  What is your age (in years)? If you prefer not...  \n",
       "37  Which of the following describe you, if any? P...  \n",
       "38                               Are you transgender?  \n",
       "39  Which of the following describe you, if any? P...  \n",
       "40  Which of the following describe you, if any? P...  \n",
       "41  How do you feel about the length of the survey...  \n",
       "42  How easy or difficult was this survey to compl...  "
      ]
     },
     "execution_count": 6,
     "metadata": {},
     "output_type": "execute_result"
    }
   ],
   "source": [
    "schema = (schema_2019.rename(columns={'QuestionText':'Question_2019'})\n",
    "          .merge(schema_2020.rename(columns={'QuestionText':'Question_2020'}), on='Column', how='inner'))\n",
    "schema"
   ]
  },
  {
   "cell_type": "markdown",
   "id": "7072a823",
   "metadata": {},
   "source": [
    "From the table above, 43 questions were made on both years, so we can use them to our analysis, but we need to keep in mind that some respondents should have same ID, as a result of concatenating two surveys. Let's now select these columns on both dataframes, and merge them, including a \"Year\" column, which describes the year of the survey"
   ]
  },
  {
   "cell_type": "code",
   "execution_count": 7,
   "id": "ecd534d1",
   "metadata": {},
   "outputs": [],
   "source": [
    "# Creating a list with all the intersection columns\n",
    "column_list = schema.Column.to_list()"
   ]
  },
  {
   "cell_type": "code",
   "execution_count": 8,
   "id": "e6296f16",
   "metadata": {},
   "outputs": [
    {
     "data": {
      "text/html": [
       "<div>\n",
       "<style scoped>\n",
       "    .dataframe tbody tr th:only-of-type {\n",
       "        vertical-align: middle;\n",
       "    }\n",
       "\n",
       "    .dataframe tbody tr th {\n",
       "        vertical-align: top;\n",
       "    }\n",
       "\n",
       "    .dataframe thead th {\n",
       "        text-align: right;\n",
       "    }\n",
       "</style>\n",
       "<table border=\"1\" class=\"dataframe\">\n",
       "  <thead>\n",
       "    <tr style=\"text-align: right;\">\n",
       "      <th></th>\n",
       "      <th>Respondent</th>\n",
       "      <th>MainBranch</th>\n",
       "      <th>Hobbyist</th>\n",
       "      <th>Employment</th>\n",
       "      <th>Country</th>\n",
       "      <th>EdLevel</th>\n",
       "      <th>UndergradMajor</th>\n",
       "      <th>OrgSize</th>\n",
       "      <th>DevType</th>\n",
       "      <th>YearsCode</th>\n",
       "      <th>...</th>\n",
       "      <th>SOComm</th>\n",
       "      <th>WelcomeChange</th>\n",
       "      <th>Age</th>\n",
       "      <th>Gender</th>\n",
       "      <th>Trans</th>\n",
       "      <th>Sexuality</th>\n",
       "      <th>Ethnicity</th>\n",
       "      <th>SurveyLength</th>\n",
       "      <th>SurveyEase</th>\n",
       "      <th>Year</th>\n",
       "    </tr>\n",
       "  </thead>\n",
       "  <tbody>\n",
       "    <tr>\n",
       "      <th>77535</th>\n",
       "      <td>78021</td>\n",
       "      <td>I am not primarily a developer, but I write co...</td>\n",
       "      <td>Yes</td>\n",
       "      <td>Employed full-time</td>\n",
       "      <td>United States</td>\n",
       "      <td>Bachelor’s degree (BA, BS, B.Eng., etc.)</td>\n",
       "      <td>Computer science, computer engineering, or sof...</td>\n",
       "      <td>10,000 or more employees</td>\n",
       "      <td>Developer, front-end;Engineering manager</td>\n",
       "      <td>20</td>\n",
       "      <td>...</td>\n",
       "      <td>Neutral</td>\n",
       "      <td>Just as welcome now as I felt last year</td>\n",
       "      <td>38.0</td>\n",
       "      <td>Man</td>\n",
       "      <td>No</td>\n",
       "      <td>Straight / Heterosexual</td>\n",
       "      <td>White or of European descent</td>\n",
       "      <td>Appropriate in length</td>\n",
       "      <td>Easy</td>\n",
       "      <td>2019</td>\n",
       "    </tr>\n",
       "  </tbody>\n",
       "</table>\n",
       "<p>1 rows × 44 columns</p>\n",
       "</div>"
      ],
      "text/plain": [
       "       Respondent                                         MainBranch Hobbyist  \\\n",
       "77535       78021  I am not primarily a developer, but I write co...      Yes   \n",
       "\n",
       "               Employment        Country  \\\n",
       "77535  Employed full-time  United States   \n",
       "\n",
       "                                        EdLevel  \\\n",
       "77535  Bachelor’s degree (BA, BS, B.Eng., etc.)   \n",
       "\n",
       "                                          UndergradMajor  \\\n",
       "77535  Computer science, computer engineering, or sof...   \n",
       "\n",
       "                        OrgSize                                   DevType  \\\n",
       "77535  10,000 or more employees  Developer, front-end;Engineering manager   \n",
       "\n",
       "      YearsCode  ...   SOComm                            WelcomeChange   Age  \\\n",
       "77535        20  ...  Neutral  Just as welcome now as I felt last year  38.0   \n",
       "\n",
       "      Gender Trans                Sexuality                     Ethnicity  \\\n",
       "77535    Man    No  Straight / Heterosexual  White or of European descent   \n",
       "\n",
       "                SurveyLength SurveyEase  Year  \n",
       "77535  Appropriate in length       Easy  2019  \n",
       "\n",
       "[1 rows x 44 columns]"
      ]
     },
     "execution_count": 8,
     "metadata": {},
     "output_type": "execute_result"
    }
   ],
   "source": [
    "df_2019 = df_2019[df_2019.columns.intersection(column_list)]\n",
    "df_2019['Year'] = 2019  #Year of survey\n",
    "df_2019.sample()"
   ]
  },
  {
   "cell_type": "code",
   "execution_count": 9,
   "id": "6950ae26",
   "metadata": {
    "scrolled": true
   },
   "outputs": [
    {
     "data": {
      "text/html": [
       "<div>\n",
       "<style scoped>\n",
       "    .dataframe tbody tr th:only-of-type {\n",
       "        vertical-align: middle;\n",
       "    }\n",
       "\n",
       "    .dataframe tbody tr th {\n",
       "        vertical-align: top;\n",
       "    }\n",
       "\n",
       "    .dataframe thead th {\n",
       "        text-align: right;\n",
       "    }\n",
       "</style>\n",
       "<table border=\"1\" class=\"dataframe\">\n",
       "  <thead>\n",
       "    <tr style=\"text-align: right;\">\n",
       "      <th></th>\n",
       "      <th>Respondent</th>\n",
       "      <th>MainBranch</th>\n",
       "      <th>Hobbyist</th>\n",
       "      <th>Age</th>\n",
       "      <th>Age1stCode</th>\n",
       "      <th>CompFreq</th>\n",
       "      <th>CompTotal</th>\n",
       "      <th>ConvertedComp</th>\n",
       "      <th>Country</th>\n",
       "      <th>CurrencyDesc</th>\n",
       "      <th>...</th>\n",
       "      <th>SOVisitFreq</th>\n",
       "      <th>SurveyEase</th>\n",
       "      <th>SurveyLength</th>\n",
       "      <th>Trans</th>\n",
       "      <th>UndergradMajor</th>\n",
       "      <th>WelcomeChange</th>\n",
       "      <th>WorkWeekHrs</th>\n",
       "      <th>YearsCode</th>\n",
       "      <th>YearsCodePro</th>\n",
       "      <th>Year</th>\n",
       "    </tr>\n",
       "  </thead>\n",
       "  <tbody>\n",
       "    <tr>\n",
       "      <th>61115</th>\n",
       "      <td>62348</td>\n",
       "      <td>I am a student who is learning to code</td>\n",
       "      <td>Yes</td>\n",
       "      <td>21.0</td>\n",
       "      <td>16</td>\n",
       "      <td>NaN</td>\n",
       "      <td>NaN</td>\n",
       "      <td>NaN</td>\n",
       "      <td>Germany</td>\n",
       "      <td>NaN</td>\n",
       "      <td>...</td>\n",
       "      <td>A few times per week</td>\n",
       "      <td>Easy</td>\n",
       "      <td>Appropriate in length</td>\n",
       "      <td>No</td>\n",
       "      <td>Computer science, computer engineering, or sof...</td>\n",
       "      <td>Just as welcome now as I felt last year</td>\n",
       "      <td>NaN</td>\n",
       "      <td>5</td>\n",
       "      <td>NaN</td>\n",
       "      <td>2020</td>\n",
       "    </tr>\n",
       "  </tbody>\n",
       "</table>\n",
       "<p>1 rows × 44 columns</p>\n",
       "</div>"
      ],
      "text/plain": [
       "       Respondent                              MainBranch Hobbyist   Age  \\\n",
       "61115       62348  I am a student who is learning to code      Yes  21.0   \n",
       "\n",
       "      Age1stCode CompFreq  CompTotal  ConvertedComp  Country CurrencyDesc  \\\n",
       "61115         16      NaN        NaN            NaN  Germany          NaN   \n",
       "\n",
       "       ...           SOVisitFreq SurveyEase           SurveyLength Trans  \\\n",
       "61115  ...  A few times per week       Easy  Appropriate in length    No   \n",
       "\n",
       "                                          UndergradMajor  \\\n",
       "61115  Computer science, computer engineering, or sof...   \n",
       "\n",
       "                                 WelcomeChange WorkWeekHrs YearsCode  \\\n",
       "61115  Just as welcome now as I felt last year         NaN         5   \n",
       "\n",
       "      YearsCodePro  Year  \n",
       "61115          NaN  2020  \n",
       "\n",
       "[1 rows x 44 columns]"
      ]
     },
     "execution_count": 9,
     "metadata": {},
     "output_type": "execute_result"
    }
   ],
   "source": [
    "df_2020 = df_2020[df_2020.columns.intersection(column_list)]\n",
    "df_2020['Year'] = 2020  #Year of survey\n",
    "df_2020.sample()"
   ]
  },
  {
   "cell_type": "markdown",
   "id": "e764b11d",
   "metadata": {},
   "source": [
    "Now, we can append the results, and create one unique dataframe to work with:"
   ]
  },
  {
   "cell_type": "code",
   "execution_count": 10,
   "id": "3c1ee4d8",
   "metadata": {},
   "outputs": [
    {
     "data": {
      "text/html": [
       "<div>\n",
       "<style scoped>\n",
       "    .dataframe tbody tr th:only-of-type {\n",
       "        vertical-align: middle;\n",
       "    }\n",
       "\n",
       "    .dataframe tbody tr th {\n",
       "        vertical-align: top;\n",
       "    }\n",
       "\n",
       "    .dataframe thead th {\n",
       "        text-align: right;\n",
       "    }\n",
       "</style>\n",
       "<table border=\"1\" class=\"dataframe\">\n",
       "  <thead>\n",
       "    <tr style=\"text-align: right;\">\n",
       "      <th></th>\n",
       "      <th>Respondent</th>\n",
       "      <th>MainBranch</th>\n",
       "      <th>Hobbyist</th>\n",
       "      <th>Employment</th>\n",
       "      <th>Country</th>\n",
       "      <th>EdLevel</th>\n",
       "      <th>UndergradMajor</th>\n",
       "      <th>OrgSize</th>\n",
       "      <th>DevType</th>\n",
       "      <th>YearsCode</th>\n",
       "      <th>...</th>\n",
       "      <th>SOComm</th>\n",
       "      <th>WelcomeChange</th>\n",
       "      <th>Age</th>\n",
       "      <th>Gender</th>\n",
       "      <th>Trans</th>\n",
       "      <th>Sexuality</th>\n",
       "      <th>Ethnicity</th>\n",
       "      <th>SurveyLength</th>\n",
       "      <th>SurveyEase</th>\n",
       "      <th>Year</th>\n",
       "    </tr>\n",
       "  </thead>\n",
       "  <tbody>\n",
       "    <tr>\n",
       "      <th>89578</th>\n",
       "      <td>697</td>\n",
       "      <td>I am a developer by profession</td>\n",
       "      <td>No</td>\n",
       "      <td>Employed full-time</td>\n",
       "      <td>France</td>\n",
       "      <td>Master’s degree (M.A., M.S., M.Eng., MBA, etc.)</td>\n",
       "      <td>Computer science, computer engineering, or sof...</td>\n",
       "      <td>20 to 99 employees</td>\n",
       "      <td>Developer, back-end;Developer, front-end;Devel...</td>\n",
       "      <td>12</td>\n",
       "      <td>...</td>\n",
       "      <td>Yes, definitely</td>\n",
       "      <td>Just as welcome now as I felt last year</td>\n",
       "      <td>28.0</td>\n",
       "      <td>Man</td>\n",
       "      <td>No</td>\n",
       "      <td>Straight / Heterosexual</td>\n",
       "      <td>White or of European descent</td>\n",
       "      <td>Appropriate in length</td>\n",
       "      <td>Easy</td>\n",
       "      <td>2020</td>\n",
       "    </tr>\n",
       "  </tbody>\n",
       "</table>\n",
       "<p>1 rows × 44 columns</p>\n",
       "</div>"
      ],
      "text/plain": [
       "       Respondent                      MainBranch Hobbyist  \\\n",
       "89578         697  I am a developer by profession       No   \n",
       "\n",
       "               Employment Country  \\\n",
       "89578  Employed full-time  France   \n",
       "\n",
       "                                               EdLevel  \\\n",
       "89578  Master’s degree (M.A., M.S., M.Eng., MBA, etc.)   \n",
       "\n",
       "                                          UndergradMajor             OrgSize  \\\n",
       "89578  Computer science, computer engineering, or sof...  20 to 99 employees   \n",
       "\n",
       "                                                 DevType YearsCode  ...  \\\n",
       "89578  Developer, back-end;Developer, front-end;Devel...        12  ...   \n",
       "\n",
       "                SOComm                            WelcomeChange   Age Gender  \\\n",
       "89578  Yes, definitely  Just as welcome now as I felt last year  28.0    Man   \n",
       "\n",
       "      Trans                Sexuality                     Ethnicity  \\\n",
       "89578    No  Straight / Heterosexual  White or of European descent   \n",
       "\n",
       "                SurveyLength SurveyEase  Year  \n",
       "89578  Appropriate in length       Easy  2020  \n",
       "\n",
       "[1 rows x 44 columns]"
      ]
     },
     "execution_count": 10,
     "metadata": {},
     "output_type": "execute_result"
    }
   ],
   "source": [
    "df = df_2019.append(df_2020, ignore_index=True)\n",
    "df.sample()"
   ]
  },
  {
   "cell_type": "code",
   "execution_count": 11,
   "id": "2fa01ffb",
   "metadata": {},
   "outputs": [
    {
     "data": {
      "text/plain": [
       "(153344, 44)"
      ]
     },
     "execution_count": 11,
     "metadata": {},
     "output_type": "execute_result"
    }
   ],
   "source": [
    "df.shape"
   ]
  },
  {
   "cell_type": "code",
   "execution_count": 12,
   "id": "66b88dc1",
   "metadata": {},
   "outputs": [
    {
     "data": {
      "text/html": [
       "<div>\n",
       "<style scoped>\n",
       "    .dataframe tbody tr th:only-of-type {\n",
       "        vertical-align: middle;\n",
       "    }\n",
       "\n",
       "    .dataframe tbody tr th {\n",
       "        vertical-align: top;\n",
       "    }\n",
       "\n",
       "    .dataframe thead th {\n",
       "        text-align: right;\n",
       "    }\n",
       "</style>\n",
       "<table border=\"1\" class=\"dataframe\">\n",
       "  <thead>\n",
       "    <tr style=\"text-align: right;\">\n",
       "      <th></th>\n",
       "      <th>Respondent</th>\n",
       "      <th>CompTotal</th>\n",
       "      <th>ConvertedComp</th>\n",
       "      <th>WorkWeekHrs</th>\n",
       "      <th>Age</th>\n",
       "      <th>Year</th>\n",
       "    </tr>\n",
       "  </thead>\n",
       "  <tbody>\n",
       "    <tr>\n",
       "      <th>count</th>\n",
       "      <td>153344.000000</td>\n",
       "      <td>9.077100e+04</td>\n",
       "      <td>9.057900e+04</td>\n",
       "      <td>105654.000000</td>\n",
       "      <td>124656.000000</td>\n",
       "      <td>153344.000000</td>\n",
       "    </tr>\n",
       "    <tr>\n",
       "      <th>mean</th>\n",
       "      <td>39444.691804</td>\n",
       "      <td>1.224082e+242</td>\n",
       "      <td>1.181493e+05</td>\n",
       "      <td>41.603326</td>\n",
       "      <td>30.518041</td>\n",
       "      <td>2019.420369</td>\n",
       "    </tr>\n",
       "    <tr>\n",
       "      <th>std</th>\n",
       "      <td>23817.410483</td>\n",
       "      <td>inf</td>\n",
       "      <td>2.638965e+05</td>\n",
       "      <td>31.191194</td>\n",
       "      <td>9.331862</td>\n",
       "      <td>0.493620</td>\n",
       "    </tr>\n",
       "    <tr>\n",
       "      <th>min</th>\n",
       "      <td>1.000000</td>\n",
       "      <td>0.000000e+00</td>\n",
       "      <td>0.000000e+00</td>\n",
       "      <td>1.000000</td>\n",
       "      <td>1.000000</td>\n",
       "      <td>2019.000000</td>\n",
       "    </tr>\n",
       "    <tr>\n",
       "      <th>25%</th>\n",
       "      <td>19168.750000</td>\n",
       "      <td>2.000000e+04</td>\n",
       "      <td>2.525400e+04</td>\n",
       "      <td>40.000000</td>\n",
       "      <td>24.000000</td>\n",
       "      <td>2019.000000</td>\n",
       "    </tr>\n",
       "    <tr>\n",
       "      <th>50%</th>\n",
       "      <td>38458.500000</td>\n",
       "      <td>6.200000e+04</td>\n",
       "      <td>5.522400e+04</td>\n",
       "      <td>40.000000</td>\n",
       "      <td>29.000000</td>\n",
       "      <td>2019.000000</td>\n",
       "    </tr>\n",
       "    <tr>\n",
       "      <th>75%</th>\n",
       "      <td>57942.000000</td>\n",
       "      <td>1.200000e+05</td>\n",
       "      <td>9.900000e+04</td>\n",
       "      <td>44.000000</td>\n",
       "      <td>35.000000</td>\n",
       "      <td>2020.000000</td>\n",
       "    </tr>\n",
       "    <tr>\n",
       "      <th>max</th>\n",
       "      <td>88883.000000</td>\n",
       "      <td>1.111111e+247</td>\n",
       "      <td>2.000000e+06</td>\n",
       "      <td>4850.000000</td>\n",
       "      <td>279.000000</td>\n",
       "      <td>2020.000000</td>\n",
       "    </tr>\n",
       "  </tbody>\n",
       "</table>\n",
       "</div>"
      ],
      "text/plain": [
       "          Respondent      CompTotal  ConvertedComp    WorkWeekHrs  \\\n",
       "count  153344.000000   9.077100e+04   9.057900e+04  105654.000000   \n",
       "mean    39444.691804  1.224082e+242   1.181493e+05      41.603326   \n",
       "std     23817.410483            inf   2.638965e+05      31.191194   \n",
       "min         1.000000   0.000000e+00   0.000000e+00       1.000000   \n",
       "25%     19168.750000   2.000000e+04   2.525400e+04      40.000000   \n",
       "50%     38458.500000   6.200000e+04   5.522400e+04      40.000000   \n",
       "75%     57942.000000   1.200000e+05   9.900000e+04      44.000000   \n",
       "max     88883.000000  1.111111e+247   2.000000e+06    4850.000000   \n",
       "\n",
       "                 Age           Year  \n",
       "count  124656.000000  153344.000000  \n",
       "mean       30.518041    2019.420369  \n",
       "std         9.331862       0.493620  \n",
       "min         1.000000    2019.000000  \n",
       "25%        24.000000    2019.000000  \n",
       "50%        29.000000    2019.000000  \n",
       "75%        35.000000    2020.000000  \n",
       "max       279.000000    2020.000000  "
      ]
     },
     "execution_count": 12,
     "metadata": {},
     "output_type": "execute_result"
    }
   ],
   "source": [
    "df.describe()"
   ]
  },
  {
   "cell_type": "code",
   "execution_count": 13,
   "id": "57827d60",
   "metadata": {},
   "outputs": [
    {
     "data": {
      "text/html": [
       "<div>\n",
       "<style scoped>\n",
       "    .dataframe tbody tr th:only-of-type {\n",
       "        vertical-align: middle;\n",
       "    }\n",
       "\n",
       "    .dataframe tbody tr th {\n",
       "        vertical-align: top;\n",
       "    }\n",
       "\n",
       "    .dataframe thead th {\n",
       "        text-align: right;\n",
       "    }\n",
       "</style>\n",
       "<table border=\"1\" class=\"dataframe\">\n",
       "  <thead>\n",
       "    <tr style=\"text-align: right;\">\n",
       "      <th></th>\n",
       "      <th>column_name</th>\n",
       "      <th>percent_missing</th>\n",
       "    </tr>\n",
       "  </thead>\n",
       "  <tbody>\n",
       "    <tr>\n",
       "      <th>0</th>\n",
       "      <td>ConvertedComp</td>\n",
       "      <td>40.930848</td>\n",
       "    </tr>\n",
       "    <tr>\n",
       "      <th>1</th>\n",
       "      <td>CompTotal</td>\n",
       "      <td>40.805640</td>\n",
       "    </tr>\n",
       "    <tr>\n",
       "      <th>2</th>\n",
       "      <td>MiscTechWorkedWith</td>\n",
       "      <td>34.852358</td>\n",
       "    </tr>\n",
       "    <tr>\n",
       "      <th>3</th>\n",
       "      <td>PurchaseWhat</td>\n",
       "      <td>33.878730</td>\n",
       "    </tr>\n",
       "    <tr>\n",
       "      <th>4</th>\n",
       "      <td>CompFreq</td>\n",
       "      <td>32.610992</td>\n",
       "    </tr>\n",
       "  </tbody>\n",
       "</table>\n",
       "</div>"
      ],
      "text/plain": [
       "          column_name  percent_missing\n",
       "0       ConvertedComp        40.930848\n",
       "1           CompTotal        40.805640\n",
       "2  MiscTechWorkedWith        34.852358\n",
       "3        PurchaseWhat        33.878730\n",
       "4            CompFreq        32.610992"
      ]
     },
     "execution_count": 13,
     "metadata": {},
     "output_type": "execute_result"
    }
   ],
   "source": [
    "# Counting the percentage of missing values of each column\n",
    "missing_values = df.isnull().sum()/len(df)*100\n",
    "missing_values_df = pd.DataFrame({'column_name': df.columns, 'percent_missing': missing_values}).sort_values(by='percent_missing',ascending=False).reset_index(drop=True)\n",
    "missing_values_df.head()"
   ]
  },
  {
   "cell_type": "code",
   "execution_count": 14,
   "id": "dc936bba",
   "metadata": {},
   "outputs": [
    {
     "data": {
      "text/plain": [
       "array([[<AxesSubplot:title={'center':'percent_missing'}>]], dtype=object)"
      ]
     },
     "execution_count": 14,
     "metadata": {},
     "output_type": "execute_result"
    },
    {
     "data": {
      "image/png": "[encoded data removed]",
      "text/plain": [
       "<Figure size 432x288 with 1 Axes>"
      ]
     },
     "metadata": {
      "needs_background": "light"
     },
     "output_type": "display_data"
    }
   ],
   "source": [
    "missing_values_df.hist()"
   ]
  },
  {
   "cell_type": "code",
   "execution_count": 15,
   "id": "435d29b5",
   "metadata": {},
   "outputs": [
    {
     "data": {
      "text/html": [
       "<div>\n",
       "<style scoped>\n",
       "    .dataframe tbody tr th:only-of-type {\n",
       "        vertical-align: middle;\n",
       "    }\n",
       "\n",
       "    .dataframe tbody tr th {\n",
       "        vertical-align: top;\n",
       "    }\n",
       "\n",
       "    .dataframe thead th {\n",
       "        text-align: right;\n",
       "    }\n",
       "</style>\n",
       "<table border=\"1\" class=\"dataframe\">\n",
       "  <thead>\n",
       "    <tr style=\"text-align: right;\">\n",
       "      <th></th>\n",
       "      <th>percent_missing</th>\n",
       "    </tr>\n",
       "  </thead>\n",
       "  <tbody>\n",
       "    <tr>\n",
       "      <th>count</th>\n",
       "      <td>44.000000</td>\n",
       "    </tr>\n",
       "    <tr>\n",
       "      <th>mean</th>\n",
       "      <td>15.640192</td>\n",
       "    </tr>\n",
       "    <tr>\n",
       "      <th>std</th>\n",
       "      <td>11.446709</td>\n",
       "    </tr>\n",
       "    <tr>\n",
       "      <th>min</th>\n",
       "      <td>0.000000</td>\n",
       "    </tr>\n",
       "    <tr>\n",
       "      <th>25%</th>\n",
       "      <td>5.693408</td>\n",
       "    </tr>\n",
       "    <tr>\n",
       "      <th>50%</th>\n",
       "      <td>14.249335</td>\n",
       "    </tr>\n",
       "    <tr>\n",
       "      <th>75%</th>\n",
       "      <td>23.789649</td>\n",
       "    </tr>\n",
       "    <tr>\n",
       "      <th>max</th>\n",
       "      <td>40.930848</td>\n",
       "    </tr>\n",
       "  </tbody>\n",
       "</table>\n",
       "</div>"
      ],
      "text/plain": [
       "       percent_missing\n",
       "count        44.000000\n",
       "mean         15.640192\n",
       "std          11.446709\n",
       "min           0.000000\n",
       "25%           5.693408\n",
       "50%          14.249335\n",
       "75%          23.789649\n",
       "max          40.930848"
      ]
     },
     "execution_count": 15,
     "metadata": {},
     "output_type": "execute_result"
    }
   ],
   "source": [
    "missing_values_df.describe()"
   ]
  },
  {
   "cell_type": "markdown",
   "id": "1c291e13",
   "metadata": {},
   "source": [
    "About 75% of the columns have up to 24% of missing values, and the variable with more missing data is ConvertedComp, so we need to keep this in mind for future analysis"
   ]
  },
  {
   "cell_type": "markdown",
   "id": "db4e0b93",
   "metadata": {},
   "source": [
    "Now, let's check if there're evidences of changes of the responses over the two years:"
   ]
  },
  {
   "cell_type": "code",
   "execution_count": 16,
   "id": "0ae88d9a",
   "metadata": {},
   "outputs": [
    {
     "data": {
      "text/plain": [
       "<AxesSubplot:xlabel='Employment'>"
      ]
     },
     "execution_count": 16,
     "metadata": {},
     "output_type": "execute_result"
    },
    {
     "data": {
      "image/png": "[encoded data removed]",
      "text/plain": [
       "<Figure size 432x288 with 1 Axes>"
      ]
     },
     "metadata": {
      "needs_background": "light"
     },
     "output_type": "display_data"
    }
   ],
   "source": [
    "df.pivot_table(index='Employment', columns='Year', values='Respondent', aggfunc='count').plot(kind='bar')"
   ]
  },
  {
   "cell_type": "code",
   "execution_count": 17,
   "id": "63a68974",
   "metadata": {},
   "outputs": [
    {
     "data": {
      "text/plain": [
       "<AxesSubplot:xlabel='OrgSize'>"
      ]
     },
     "execution_count": 17,
     "metadata": {},
     "output_type": "execute_result"
    },
    {
     "data": {
      "image/png": "[encoded data removed]",
      "text/plain": [
       "<Figure size 432x288 with 1 Axes>"
      ]
     },
     "metadata": {
      "needs_background": "light"
     },
     "output_type": "display_data"
    }
   ],
   "source": [
    "df.pivot_table(index='OrgSize', columns='Year', values='Respondent', aggfunc='count').plot(kind='bar')"
   ]
  },
  {
   "cell_type": "markdown",
   "id": "b34e664a",
   "metadata": {},
   "source": [
    "# Data Preparation"
   ]
  },
  {
   "cell_type": "markdown",
   "id": "ac79944b",
   "metadata": {},
   "source": [
    "As we saw before, we have different answers for \"2 to 9 employees\", so we'll clean it, keeping only one:"
   ]
  },
  {
   "cell_type": "code",
   "execution_count": 18,
   "id": "49d7d2dc",
   "metadata": {},
   "outputs": [],
   "source": [
    "# Converting company size name for 2-9 company size:\n",
    "df['OrgSize'] = np.where(df.OrgSize == '2-9 employees', '2 to 9 employees', df.OrgSize)"
   ]
  },
  {
   "cell_type": "markdown",
   "id": "7b6634a9",
   "metadata": {},
   "source": [
    "In addition, we'll simplify 'Just me - I am a freelancer, sole proprietor, etc.' to 'Just me', for better data visualizations:"
   ]
  },
  {
   "cell_type": "code",
   "execution_count": 19,
   "id": "13014c65",
   "metadata": {},
   "outputs": [],
   "source": [
    "# Converting value name for those who work solo\n",
    "df['OrgSize'] = np.where(df.OrgSize == 'Just me - I am a freelancer, sole proprietor, etc.', 'Just me', df.OrgSize)"
   ]
  },
  {
   "cell_type": "markdown",
   "id": "1edfdd40",
   "metadata": {},
   "source": [
    "We also saw that YearsCode is an object column. It would be nice to have this column as a integer:"
   ]
  },
  {
   "cell_type": "code",
   "execution_count": 20,
   "id": "1c26b31c",
   "metadata": {},
   "outputs": [
    {
     "data": {
      "text/plain": [
       "dtype('O')"
      ]
     },
     "execution_count": 20,
     "metadata": {},
     "output_type": "execute_result"
    }
   ],
   "source": [
    "df.YearsCode.dtypes"
   ]
  },
  {
   "cell_type": "code",
   "execution_count": 21,
   "id": "b0d5db96",
   "metadata": {},
   "outputs": [
    {
     "data": {
      "text/plain": [
       "array(['4', nan, '3', '16', '13', '6', '8', '12', '2', '5', '17', '10',\n",
       "       '14', '35', '7', 'Less than 1 year', '30', '9', '26', '40', '19',\n",
       "       '15', '20', '28', '25', '1', '22', '11', '33', '50', '41', '18',\n",
       "       '34', '24', '23', '42', '27', '21', '36', '32', '39', '38', '31',\n",
       "       '37', 'More than 50 years', '29', '44', '45', '48', '46', '43',\n",
       "       '47', '49'], dtype=object)"
      ]
     },
     "execution_count": 21,
     "metadata": {},
     "output_type": "execute_result"
    }
   ],
   "source": [
    "df.YearsCode.unique()"
   ]
  },
  {
   "cell_type": "markdown",
   "id": "d8d46cc0",
   "metadata": {},
   "source": [
    "We can see that YearsCode is an object type, se we can't perform numerical operations across them. To solve this, let's consider that 'Lass than 1 year' is 0 and 'More tha 50 years' is 50:"
   ]
  },
  {
   "cell_type": "code",
   "execution_count": 22,
   "id": "1ea2a182",
   "metadata": {},
   "outputs": [],
   "source": [
    "# Converting strings to number for further usage:\n",
    "df['YearsCode'] = np.where(df.YearsCode == 'Less than 1 year', '0', df.YearsCode)\n",
    "df['YearsCode'] = np.where(df.YearsCode == 'More than 50 years', '50', df.YearsCode)"
   ]
  },
  {
   "cell_type": "markdown",
   "id": "0f72efb4",
   "metadata": {},
   "source": [
    "Here I'll create some definitions of company size, to help us in further analysis:"
   ]
  },
  {
   "cell_type": "code",
   "execution_count": 23,
   "id": "a92168cf",
   "metadata": {},
   "outputs": [],
   "source": [
    "# Defining company size lists based on the number of employees\n",
    "large_comp_list = ['10,000 or more employees', '5,000 to 9,999 employees', '1,000 to 4,999 employees']\n",
    "mid_comp_list = ['100 to 499 employees', '500 to 999 employees']\n",
    "small_comp_list = ['2 to 9 employees', '10 to 19 employees', '20 to 99 employees']\n",
    "solo_list = 'Just me'"
   ]
  },
  {
   "cell_type": "markdown",
   "id": "7fffd5d4",
   "metadata": {},
   "source": [
    "# Questions"
   ]
  },
  {
   "cell_type": "markdown",
   "id": "cb119633",
   "metadata": {},
   "source": [
    "Now, let's try to answer some questions regarding the data we explored above"
   ]
  },
  {
   "cell_type": "markdown",
   "id": "73ac4fd5",
   "metadata": {},
   "source": [
    "## How is the income for those who work sole compared to those who are employed?"
   ]
  },
  {
   "cell_type": "markdown",
   "id": "c5a9a289",
   "metadata": {},
   "source": [
    "For those who are employed, what's the percentage of company size within each employment status? Let's first take a look at how is the distribution over these variables:"
   ]
  },
  {
   "cell_type": "code",
   "execution_count": 24,
   "id": "0548d43b",
   "metadata": {},
   "outputs": [],
   "source": [
    "employee_df = df.groupby(['Employment', 'OrgSize']).Respondent.count().reset_index()"
   ]
  },
  {
   "cell_type": "code",
   "execution_count": 25,
   "id": "9c4e9ead",
   "metadata": {},
   "outputs": [
    {
     "data": {
      "text/html": [
       "<div>\n",
       "<style scoped>\n",
       "    .dataframe tbody tr th:only-of-type {\n",
       "        vertical-align: middle;\n",
       "    }\n",
       "\n",
       "    .dataframe tbody tr th {\n",
       "        vertical-align: top;\n",
       "    }\n",
       "\n",
       "    .dataframe thead th {\n",
       "        text-align: right;\n",
       "    }\n",
       "</style>\n",
       "<table border=\"1\" class=\"dataframe\">\n",
       "  <thead>\n",
       "    <tr style=\"text-align: right;\">\n",
       "      <th></th>\n",
       "      <th>Employment</th>\n",
       "      <th>OrgSize</th>\n",
       "      <th>Respondent</th>\n",
       "    </tr>\n",
       "  </thead>\n",
       "  <tbody>\n",
       "    <tr>\n",
       "      <th>15</th>\n",
       "      <td>Employed part-time</td>\n",
       "      <td>5,000 to 9,999 employees</td>\n",
       "      <td>137</td>\n",
       "    </tr>\n",
       "  </tbody>\n",
       "</table>\n",
       "</div>"
      ],
      "text/plain": [
       "            Employment                   OrgSize  Respondent\n",
       "15  Employed part-time  5,000 to 9,999 employees         137"
      ]
     },
     "execution_count": 25,
     "metadata": {},
     "output_type": "execute_result"
    }
   ],
   "source": [
    "employee_df.sample()"
   ]
  },
  {
   "cell_type": "code",
   "execution_count": 26,
   "id": "5e038b54",
   "metadata": {},
   "outputs": [
    {
     "data": {
      "text/plain": [
       "<AxesSubplot:xlabel='Employment'>"
      ]
     },
     "execution_count": 26,
     "metadata": {},
     "output_type": "execute_result"
    },
    {
     "data": {
      "image/png": "[encoded data removed]",
      "text/plain": [
       "<Figure size 1080x720 with 1 Axes>"
      ]
     },
     "metadata": {
      "needs_background": "light"
     },
     "output_type": "display_data"
    }
   ],
   "source": [
    "employee_pivot = employee_df.pivot_table(index='Employment', columns='OrgSize', values='Respondent', aggfunc='sum')\n",
    "employee_pivot.plot(kind='bar', figsize=(15,10))"
   ]
  },
  {
   "cell_type": "code",
   "execution_count": 27,
   "id": "b995e855",
   "metadata": {},
   "outputs": [
    {
     "data": {
      "text/html": [
       "<div>\n",
       "<style scoped>\n",
       "    .dataframe tbody tr th:only-of-type {\n",
       "        vertical-align: middle;\n",
       "    }\n",
       "\n",
       "    .dataframe tbody tr th {\n",
       "        vertical-align: top;\n",
       "    }\n",
       "\n",
       "    .dataframe thead th {\n",
       "        text-align: right;\n",
       "    }\n",
       "</style>\n",
       "<table border=\"1\" class=\"dataframe\">\n",
       "  <thead>\n",
       "    <tr style=\"text-align: right;\">\n",
       "      <th></th>\n",
       "      <th>Employment</th>\n",
       "      <th>OrgSize</th>\n",
       "      <th>Respondent</th>\n",
       "    </tr>\n",
       "  </thead>\n",
       "  <tbody>\n",
       "    <tr>\n",
       "      <th>26</th>\n",
       "      <td>Independent contractor, freelancer, or self-em...</td>\n",
       "      <td>Just me</td>\n",
       "      <td>5814</td>\n",
       "    </tr>\n",
       "    <tr>\n",
       "      <th>22</th>\n",
       "      <td>Independent contractor, freelancer, or self-em...</td>\n",
       "      <td>2 to 9 employees</td>\n",
       "      <td>2674</td>\n",
       "    </tr>\n",
       "    <tr>\n",
       "      <th>23</th>\n",
       "      <td>Independent contractor, freelancer, or self-em...</td>\n",
       "      <td>20 to 99 employees</td>\n",
       "      <td>993</td>\n",
       "    </tr>\n",
       "    <tr>\n",
       "      <th>19</th>\n",
       "      <td>Independent contractor, freelancer, or self-em...</td>\n",
       "      <td>10 to 19 employees</td>\n",
       "      <td>765</td>\n",
       "    </tr>\n",
       "    <tr>\n",
       "      <th>21</th>\n",
       "      <td>Independent contractor, freelancer, or self-em...</td>\n",
       "      <td>100 to 499 employees</td>\n",
       "      <td>611</td>\n",
       "    </tr>\n",
       "    <tr>\n",
       "      <th>20</th>\n",
       "      <td>Independent contractor, freelancer, or self-em...</td>\n",
       "      <td>10,000 or more employees</td>\n",
       "      <td>367</td>\n",
       "    </tr>\n",
       "    <tr>\n",
       "      <th>18</th>\n",
       "      <td>Independent contractor, freelancer, or self-em...</td>\n",
       "      <td>1,000 to 4,999 employees</td>\n",
       "      <td>276</td>\n",
       "    </tr>\n",
       "    <tr>\n",
       "      <th>25</th>\n",
       "      <td>Independent contractor, freelancer, or self-em...</td>\n",
       "      <td>500 to 999 employees</td>\n",
       "      <td>194</td>\n",
       "    </tr>\n",
       "    <tr>\n",
       "      <th>24</th>\n",
       "      <td>Independent contractor, freelancer, or self-em...</td>\n",
       "      <td>5,000 to 9,999 employees</td>\n",
       "      <td>132</td>\n",
       "    </tr>\n",
       "    <tr>\n",
       "      <th>14</th>\n",
       "      <td>Employed part-time</td>\n",
       "      <td>20 to 99 employees</td>\n",
       "      <td>960</td>\n",
       "    </tr>\n",
       "    <tr>\n",
       "      <th>13</th>\n",
       "      <td>Employed part-time</td>\n",
       "      <td>2 to 9 employees</td>\n",
       "      <td>859</td>\n",
       "    </tr>\n",
       "    <tr>\n",
       "      <th>12</th>\n",
       "      <td>Employed part-time</td>\n",
       "      <td>100 to 499 employees</td>\n",
       "      <td>646</td>\n",
       "    </tr>\n",
       "    <tr>\n",
       "      <th>10</th>\n",
       "      <td>Employed part-time</td>\n",
       "      <td>10 to 19 employees</td>\n",
       "      <td>633</td>\n",
       "    </tr>\n",
       "    <tr>\n",
       "      <th>11</th>\n",
       "      <td>Employed part-time</td>\n",
       "      <td>10,000 or more employees</td>\n",
       "      <td>356</td>\n",
       "    </tr>\n",
       "    <tr>\n",
       "      <th>9</th>\n",
       "      <td>Employed part-time</td>\n",
       "      <td>1,000 to 4,999 employees</td>\n",
       "      <td>304</td>\n",
       "    </tr>\n",
       "    <tr>\n",
       "      <th>16</th>\n",
       "      <td>Employed part-time</td>\n",
       "      <td>500 to 999 employees</td>\n",
       "      <td>220</td>\n",
       "    </tr>\n",
       "    <tr>\n",
       "      <th>17</th>\n",
       "      <td>Employed part-time</td>\n",
       "      <td>Just me</td>\n",
       "      <td>172</td>\n",
       "    </tr>\n",
       "    <tr>\n",
       "      <th>15</th>\n",
       "      <td>Employed part-time</td>\n",
       "      <td>5,000 to 9,999 employees</td>\n",
       "      <td>137</td>\n",
       "    </tr>\n",
       "    <tr>\n",
       "      <th>5</th>\n",
       "      <td>Employed full-time</td>\n",
       "      <td>20 to 99 employees</td>\n",
       "      <td>22821</td>\n",
       "    </tr>\n",
       "    <tr>\n",
       "      <th>3</th>\n",
       "      <td>Employed full-time</td>\n",
       "      <td>100 to 499 employees</td>\n",
       "      <td>19872</td>\n",
       "    </tr>\n",
       "    <tr>\n",
       "      <th>2</th>\n",
       "      <td>Employed full-time</td>\n",
       "      <td>10,000 or more employees</td>\n",
       "      <td>15568</td>\n",
       "    </tr>\n",
       "    <tr>\n",
       "      <th>0</th>\n",
       "      <td>Employed full-time</td>\n",
       "      <td>1,000 to 4,999 employees</td>\n",
       "      <td>11795</td>\n",
       "    </tr>\n",
       "    <tr>\n",
       "      <th>1</th>\n",
       "      <td>Employed full-time</td>\n",
       "      <td>10 to 19 employees</td>\n",
       "      <td>9490</td>\n",
       "    </tr>\n",
       "    <tr>\n",
       "      <th>4</th>\n",
       "      <td>Employed full-time</td>\n",
       "      <td>2 to 9 employees</td>\n",
       "      <td>8252</td>\n",
       "    </tr>\n",
       "    <tr>\n",
       "      <th>7</th>\n",
       "      <td>Employed full-time</td>\n",
       "      <td>500 to 999 employees</td>\n",
       "      <td>7035</td>\n",
       "    </tr>\n",
       "    <tr>\n",
       "      <th>6</th>\n",
       "      <td>Employed full-time</td>\n",
       "      <td>5,000 to 9,999 employees</td>\n",
       "      <td>4520</td>\n",
       "    </tr>\n",
       "    <tr>\n",
       "      <th>8</th>\n",
       "      <td>Employed full-time</td>\n",
       "      <td>Just me</td>\n",
       "      <td>554</td>\n",
       "    </tr>\n",
       "  </tbody>\n",
       "</table>\n",
       "</div>"
      ],
      "text/plain": [
       "                                           Employment  \\\n",
       "26  Independent contractor, freelancer, or self-em...   \n",
       "22  Independent contractor, freelancer, or self-em...   \n",
       "23  Independent contractor, freelancer, or self-em...   \n",
       "19  Independent contractor, freelancer, or self-em...   \n",
       "21  Independent contractor, freelancer, or self-em...   \n",
       "20  Independent contractor, freelancer, or self-em...   \n",
       "18  Independent contractor, freelancer, or self-em...   \n",
       "25  Independent contractor, freelancer, or self-em...   \n",
       "24  Independent contractor, freelancer, or self-em...   \n",
       "14                                 Employed part-time   \n",
       "13                                 Employed part-time   \n",
       "12                                 Employed part-time   \n",
       "10                                 Employed part-time   \n",
       "11                                 Employed part-time   \n",
       "9                                  Employed part-time   \n",
       "16                                 Employed part-time   \n",
       "17                                 Employed part-time   \n",
       "15                                 Employed part-time   \n",
       "5                                  Employed full-time   \n",
       "3                                  Employed full-time   \n",
       "2                                  Employed full-time   \n",
       "0                                  Employed full-time   \n",
       "1                                  Employed full-time   \n",
       "4                                  Employed full-time   \n",
       "7                                  Employed full-time   \n",
       "6                                  Employed full-time   \n",
       "8                                  Employed full-time   \n",
       "\n",
       "                     OrgSize  Respondent  \n",
       "26                   Just me        5814  \n",
       "22          2 to 9 employees        2674  \n",
       "23        20 to 99 employees         993  \n",
       "19        10 to 19 employees         765  \n",
       "21      100 to 499 employees         611  \n",
       "20  10,000 or more employees         367  \n",
       "18  1,000 to 4,999 employees         276  \n",
       "25      500 to 999 employees         194  \n",
       "24  5,000 to 9,999 employees         132  \n",
       "14        20 to 99 employees         960  \n",
       "13          2 to 9 employees         859  \n",
       "12      100 to 499 employees         646  \n",
       "10        10 to 19 employees         633  \n",
       "11  10,000 or more employees         356  \n",
       "9   1,000 to 4,999 employees         304  \n",
       "16      500 to 999 employees         220  \n",
       "17                   Just me         172  \n",
       "15  5,000 to 9,999 employees         137  \n",
       "5         20 to 99 employees       22821  \n",
       "3       100 to 499 employees       19872  \n",
       "2   10,000 or more employees       15568  \n",
       "0   1,000 to 4,999 employees       11795  \n",
       "1         10 to 19 employees        9490  \n",
       "4           2 to 9 employees        8252  \n",
       "7       500 to 999 employees        7035  \n",
       "6   5,000 to 9,999 employees        4520  \n",
       "8                    Just me         554  "
      ]
     },
     "execution_count": 27,
     "metadata": {},
     "output_type": "execute_result"
    }
   ],
   "source": [
    "employee_df.sort_values(['Employment', 'Respondent'], ascending=False)"
   ]
  },
  {
   "cell_type": "markdown",
   "id": "bb565da6",
   "metadata": {},
   "source": [
    "We're interested in respondents which had aswered the Employment and OrgSize question, so let's clean the data and keep only the rows without these variables null:"
   ]
  },
  {
   "cell_type": "code",
   "execution_count": 28,
   "id": "7b368140",
   "metadata": {},
   "outputs": [
    {
     "data": {
      "text/plain": [
       "(89006, 44)"
      ]
     },
     "execution_count": 28,
     "metadata": {},
     "output_type": "execute_result"
    }
   ],
   "source": [
    "employment_df = df[(df['Employment'].notnull()) & (df['OrgSize'].notnull()) & (df['ConvertedComp'].notnull())]\n",
    "employment_df.shape"
   ]
  },
  {
   "cell_type": "code",
   "execution_count": 29,
   "id": "842baaa0",
   "metadata": {},
   "outputs": [
    {
     "data": {
      "text/plain": [
       "<AxesSubplot:xlabel='OrgSize'>"
      ]
     },
     "execution_count": 29,
     "metadata": {},
     "output_type": "execute_result"
    },
    {
     "data": {
      "image/png": "[encoded data removed]",
      "text/plain": [
       "<Figure size 1080x720 with 1 Axes>"
      ]
     },
     "metadata": {
      "needs_background": "light"
     },
     "output_type": "display_data"
    }
   ],
   "source": [
    "employment_gb = employment_df.groupby('OrgSize').agg({'ConvertedComp':'mean'}).reset_index() # grouping by organization size\n",
    "employment_gb = employment_gb.sort_values(by='ConvertedComp', ascending=False).set_index('OrgSize') #sorting by larger income\n",
    "employment_gb.plot.bar(figsize=(15,10))"
   ]
  },
  {
   "cell_type": "code",
   "execution_count": 30,
   "id": "fd5db5b3",
   "metadata": {},
   "outputs": [
    {
     "data": {
      "text/plain": [
       "<AxesSubplot:xlabel='OrgSize'>"
      ]
     },
     "execution_count": 30,
     "metadata": {},
     "output_type": "execute_result"
    },
    {
     "data": {
      "image/png": "[encoded data removed]",
      "text/plain": [
       "<Figure size 1080x720 with 1 Axes>"
      ]
     },
     "metadata": {
      "needs_background": "light"
     },
     "output_type": "display_data"
    }
   ],
   "source": [
    "employment_gb = employment_df.groupby('OrgSize').agg({'ConvertedComp':'median'}).reset_index() # grouping by organization size\n",
    "employment_gb = employment_gb.sort_values(by='ConvertedComp', ascending=False).set_index('OrgSize') #sorting by larger income\n",
    "employment_gb.plot.bar(figsize=(15,10))"
   ]
  },
  {
   "cell_type": "markdown",
   "id": "c33c7403",
   "metadata": {},
   "source": [
    "In general, we can see that people who worked in larger companies had higher incomes. Now, let's break it into the years and see if had any difference through the years"
   ]
  },
  {
   "cell_type": "code",
   "execution_count": 31,
   "id": "48981034",
   "metadata": {},
   "outputs": [
    {
     "data": {
      "text/plain": [
       "Text(0, 0.5, 'Average salary converted to annual USD salaries')"
      ]
     },
     "execution_count": 31,
     "metadata": {},
     "output_type": "execute_result"
    },
    {
     "data": {
      "image/png": "[encoded data removed]",
      "text/plain": [
       "<Figure size 1080x720 with 1 Axes>"
      ]
     },
     "metadata": {
      "needs_background": "light"
     },
     "output_type": "display_data"
    }
   ],
   "source": [
    "employment_pivot = employment_df.pivot_table(index='OrgSize', columns='Year', values='ConvertedComp', aggfunc='mean')\n",
    "employment_pivot = employment_pivot.sort_values(by=2019, ascending=False)\n",
    "ax = employment_pivot.plot.bar(figsize=(15,10),\n",
    "                               fontsize = 12,\n",
    "                               colormap=\"Spectral\",\n",
    "                               rot=45)\n",
    "ax.set_title(\"Average annual converted USD salaries per organization size\", fontsize = 20)\n",
    "ax.set_xlabel(\"Organization Size\", fontsize = 12)\n",
    "ax.set_ylabel(\"Average salary converted to annual USD salaries\", fontsize = 12)"
   ]
  },
  {
   "cell_type": "code",
   "execution_count": 32,
   "id": "fc130c4c",
   "metadata": {},
   "outputs": [
    {
     "data": {
      "text/plain": [
       "Text(0, 0.5, 'Median of salary converted to annual USD salaries')"
      ]
     },
     "execution_count": 32,
     "metadata": {},
     "output_type": "execute_result"
    },
    {
     "data": {
      "image/png": "[encoded data removed]",
      "text/plain": [
       "<Figure size 1080x720 with 1 Axes>"
      ]
     },
     "metadata": {
      "needs_background": "light"
     },
     "output_type": "display_data"
    }
   ],
   "source": [
    "employment_pivot_m = employment_df.pivot_table(index='OrgSize', columns='Year', values='ConvertedComp', aggfunc='median')\n",
    "employment_pivot_m = employment_pivot_m.sort_values(by=2019, ascending=False)\n",
    "ax = employment_pivot_m.plot.bar(figsize=(15,10),\n",
    "                               fontsize = 12,\n",
    "                               colormap=\"Spectral\",\n",
    "                               rot=45)\n",
    "ax.set_title(\"Median of annual converted USD salaries per organization size\", fontsize = 20)\n",
    "ax.set_xlabel(\"Organization Size\", fontsize = 12)\n",
    "ax.set_ylabel(\"Median of salary converted to annual USD salaries\", fontsize = 12)"
   ]
  },
  {
   "cell_type": "markdown",
   "id": "ea964586",
   "metadata": {},
   "source": [
    "What can we conclude from the graph above:\n",
    "- In general, large companies (10k + employees) usually pay more, followed by medium companies with more than 1k and less than 10k employees\n",
    "- Despite the decrease of freelancers/sole proprietor average income in 2020, they seem to be better than companies with less than 20 employees in terms of compensation"
   ]
  },
  {
   "cell_type": "markdown",
   "id": "174f42f7",
   "metadata": {},
   "source": [
    "## How many programming languages should I know to run my own business?"
   ]
  },
  {
   "cell_type": "markdown",
   "id": "4e6f15ec",
   "metadata": {},
   "source": [
    "First, let's try find out which of the programming languages were most used by the respondents:"
   ]
  },
  {
   "cell_type": "code",
   "execution_count": 33,
   "id": "235017ea",
   "metadata": {},
   "outputs": [],
   "source": [
    "# As LanguageWorkedWith have multiple choices, we need to dummy this column, following this process: \n",
    "lang_df = df.LanguageWorkedWith.str.get_dummies(sep=';') # getting all responses from each respondent\n",
    "lang_df = lang_df.melt() # here we transform all the columns into one\n",
    "lang_df = lang_df.groupby('variable').value.sum().reset_index() # now we can count the number of occurences for each language\n",
    "lang_df = lang_df.sort_values(by='value', ascending=False)"
   ]
  },
  {
   "cell_type": "code",
   "execution_count": 34,
   "id": "7b9d24fe",
   "metadata": {},
   "outputs": [
    {
     "data": {
      "text/html": [
       "<div>\n",
       "<style scoped>\n",
       "    .dataframe tbody tr th:only-of-type {\n",
       "        vertical-align: middle;\n",
       "    }\n",
       "\n",
       "    .dataframe tbody tr th {\n",
       "        vertical-align: top;\n",
       "    }\n",
       "\n",
       "    .dataframe thead th {\n",
       "        text-align: right;\n",
       "    }\n",
       "</style>\n",
       "<table border=\"1\" class=\"dataframe\">\n",
       "  <thead>\n",
       "    <tr style=\"text-align: right;\">\n",
       "      <th></th>\n",
       "      <th>variable</th>\n",
       "      <th>value</th>\n",
       "    </tr>\n",
       "  </thead>\n",
       "  <tbody>\n",
       "    <tr>\n",
       "      <th>14</th>\n",
       "      <td>JavaScript</td>\n",
       "      <td>98041</td>\n",
       "    </tr>\n",
       "    <tr>\n",
       "      <th>11</th>\n",
       "      <td>HTML/CSS</td>\n",
       "      <td>91647</td>\n",
       "    </tr>\n",
       "    <tr>\n",
       "      <th>25</th>\n",
       "      <td>SQL</td>\n",
       "      <td>78957</td>\n",
       "    </tr>\n",
       "    <tr>\n",
       "      <th>21</th>\n",
       "      <td>Python</td>\n",
       "      <td>61730</td>\n",
       "    </tr>\n",
       "    <tr>\n",
       "      <th>13</th>\n",
       "      <td>Java</td>\n",
       "      <td>58991</td>\n",
       "    </tr>\n",
       "  </tbody>\n",
       "</table>\n",
       "</div>"
      ],
      "text/plain": [
       "      variable  value\n",
       "14  JavaScript  98041\n",
       "11    HTML/CSS  91647\n",
       "25         SQL  78957\n",
       "21      Python  61730\n",
       "13        Java  58991"
      ]
     },
     "execution_count": 34,
     "metadata": {},
     "output_type": "execute_result"
    }
   ],
   "source": [
    "lang_df.head()"
   ]
  },
  {
   "cell_type": "code",
   "execution_count": 35,
   "id": "a7ab26f0",
   "metadata": {},
   "outputs": [
    {
     "data": {
      "text/plain": [
       "<AxesSubplot:xlabel='variable'>"
      ]
     },
     "execution_count": 35,
     "metadata": {},
     "output_type": "execute_result"
    },
    {
     "data": {
      "image/png": "[encoded data removed]",
      "text/plain": [
       "<Figure size 1080x720 with 1 Axes>"
      ]
     },
     "metadata": {
      "needs_background": "light"
     },
     "output_type": "display_data"
    }
   ],
   "source": [
    "lang_df.set_index('variable').plot.bar(figsize=(15,10))"
   ]
  },
  {
   "cell_type": "markdown",
   "id": "b7a25354",
   "metadata": {},
   "source": [
    "So, within all the responses, JavaScript appears to be the most popular language from the two years. Now, let's check if it's also popular within solo programmers:"
   ]
  },
  {
   "cell_type": "code",
   "execution_count": 36,
   "id": "369576fa",
   "metadata": {},
   "outputs": [],
   "source": [
    "lang_list = df.LanguageWorkedWith.str.get_dummies(sep=';').columns # list of programming languages to help on column selection"
   ]
  },
  {
   "cell_type": "code",
   "execution_count": 37,
   "id": "3742a0c0",
   "metadata": {},
   "outputs": [
    {
     "data": {
      "text/html": [
       "<div>\n",
       "<style scoped>\n",
       "    .dataframe tbody tr th:only-of-type {\n",
       "        vertical-align: middle;\n",
       "    }\n",
       "\n",
       "    .dataframe tbody tr th {\n",
       "        vertical-align: top;\n",
       "    }\n",
       "\n",
       "    .dataframe thead th {\n",
       "        text-align: right;\n",
       "    }\n",
       "</style>\n",
       "<table border=\"1\" class=\"dataframe\">\n",
       "  <thead>\n",
       "    <tr style=\"text-align: right;\">\n",
       "      <th></th>\n",
       "      <th>OrgSize</th>\n",
       "      <th>variable</th>\n",
       "      <th>value</th>\n",
       "    </tr>\n",
       "  </thead>\n",
       "  <tbody>\n",
       "    <tr>\n",
       "      <th>0</th>\n",
       "      <td>1,000 to 4,999 employees</td>\n",
       "      <td>Assembly</td>\n",
       "      <td>536</td>\n",
       "    </tr>\n",
       "    <tr>\n",
       "      <th>1</th>\n",
       "      <td>10 to 19 employees</td>\n",
       "      <td>Assembly</td>\n",
       "      <td>499</td>\n",
       "    </tr>\n",
       "    <tr>\n",
       "      <th>2</th>\n",
       "      <td>10,000 or more employees</td>\n",
       "      <td>Assembly</td>\n",
       "      <td>929</td>\n",
       "    </tr>\n",
       "    <tr>\n",
       "      <th>3</th>\n",
       "      <td>100 to 499 employees</td>\n",
       "      <td>Assembly</td>\n",
       "      <td>822</td>\n",
       "    </tr>\n",
       "    <tr>\n",
       "      <th>4</th>\n",
       "      <td>2 to 9 employees</td>\n",
       "      <td>Assembly</td>\n",
       "      <td>594</td>\n",
       "    </tr>\n",
       "  </tbody>\n",
       "</table>\n",
       "</div>"
      ],
      "text/plain": [
       "                    OrgSize  variable  value\n",
       "0  1,000 to 4,999 employees  Assembly    536\n",
       "1        10 to 19 employees  Assembly    499\n",
       "2  10,000 or more employees  Assembly    929\n",
       "3      100 to 499 employees  Assembly    822\n",
       "4          2 to 9 employees  Assembly    594"
      ]
     },
     "execution_count": 37,
     "metadata": {},
     "output_type": "execute_result"
    }
   ],
   "source": [
    "# Here we use the same process as before, but concatenating the resulting dataframe on the original one\n",
    "lang_df = pd.concat([df.drop('LanguageWorkedWith', axis=1), df.LanguageWorkedWith.str.get_dummies(sep=';')], axis=1)\n",
    "lang_gb = lang_df.groupby('OrgSize')[lang_list].sum().reset_index()\n",
    "lang_gb = lang_gb.melt(id_vars='OrgSize', value_vars=lang_list)\n",
    "lang_gb.head()"
   ]
  },
  {
   "cell_type": "code",
   "execution_count": 38,
   "id": "637cd83f",
   "metadata": {},
   "outputs": [
    {
     "data": {
      "text/html": [
       "<div>\n",
       "<style scoped>\n",
       "    .dataframe tbody tr th:only-of-type {\n",
       "        vertical-align: middle;\n",
       "    }\n",
       "\n",
       "    .dataframe tbody tr th {\n",
       "        vertical-align: top;\n",
       "    }\n",
       "\n",
       "    .dataframe thead th {\n",
       "        text-align: right;\n",
       "    }\n",
       "</style>\n",
       "<table border=\"1\" class=\"dataframe\">\n",
       "  <thead>\n",
       "    <tr style=\"text-align: right;\">\n",
       "      <th></th>\n",
       "      <th>OrgSize</th>\n",
       "      <th>variable</th>\n",
       "      <th>value</th>\n",
       "    </tr>\n",
       "  </thead>\n",
       "  <tbody>\n",
       "    <tr>\n",
       "      <th>14</th>\n",
       "      <td>Just me</td>\n",
       "      <td>JavaScript</td>\n",
       "      <td>4731</td>\n",
       "    </tr>\n",
       "    <tr>\n",
       "      <th>11</th>\n",
       "      <td>Just me</td>\n",
       "      <td>HTML/CSS</td>\n",
       "      <td>4589</td>\n",
       "    </tr>\n",
       "    <tr>\n",
       "      <th>25</th>\n",
       "      <td>Just me</td>\n",
       "      <td>SQL</td>\n",
       "      <td>3589</td>\n",
       "    </tr>\n",
       "    <tr>\n",
       "      <th>19</th>\n",
       "      <td>Just me</td>\n",
       "      <td>PHP</td>\n",
       "      <td>2529</td>\n",
       "    </tr>\n",
       "    <tr>\n",
       "      <th>21</th>\n",
       "      <td>Just me</td>\n",
       "      <td>Python</td>\n",
       "      <td>2337</td>\n",
       "    </tr>\n",
       "  </tbody>\n",
       "</table>\n",
       "</div>"
      ],
      "text/plain": [
       "    OrgSize    variable  value\n",
       "14  Just me  JavaScript   4731\n",
       "11  Just me    HTML/CSS   4589\n",
       "25  Just me         SQL   3589\n",
       "19  Just me         PHP   2529\n",
       "21  Just me      Python   2337"
      ]
     },
     "execution_count": 38,
     "metadata": {},
     "output_type": "execute_result"
    }
   ],
   "source": [
    "solo_comp_df = lang_gb[lang_gb['OrgSize']==solo_list]\n",
    "solo_comp_df.groupby(['OrgSize', 'variable']).value.sum().reset_index().sort_values(by='value', ascending=False).head()"
   ]
  },
  {
   "cell_type": "markdown",
   "id": "d84f2762",
   "metadata": {},
   "source": [
    "Again, even within solo programmers, JavaScript seems to be the most used programming language.But, is the result the same for both years? As we have seen before, the 2019 dataset has more respondents. Now, let's check if we find some differeces between the two years:"
   ]
  },
  {
   "cell_type": "code",
   "execution_count": 39,
   "id": "aa244b14",
   "metadata": {},
   "outputs": [
    {
     "data": {
      "text/html": [
       "<div>\n",
       "<style scoped>\n",
       "    .dataframe tbody tr th:only-of-type {\n",
       "        vertical-align: middle;\n",
       "    }\n",
       "\n",
       "    .dataframe tbody tr th {\n",
       "        vertical-align: top;\n",
       "    }\n",
       "\n",
       "    .dataframe thead th {\n",
       "        text-align: right;\n",
       "    }\n",
       "</style>\n",
       "<table border=\"1\" class=\"dataframe\">\n",
       "  <thead>\n",
       "    <tr style=\"text-align: right;\">\n",
       "      <th></th>\n",
       "      <th>Year</th>\n",
       "      <th>OrgSize</th>\n",
       "      <th>variable</th>\n",
       "      <th>value</th>\n",
       "    </tr>\n",
       "  </thead>\n",
       "  <tbody>\n",
       "    <tr>\n",
       "      <th>0</th>\n",
       "      <td>2019</td>\n",
       "      <td>1,000 to 4,999 employees</td>\n",
       "      <td>Assembly</td>\n",
       "      <td>338</td>\n",
       "    </tr>\n",
       "    <tr>\n",
       "      <th>1</th>\n",
       "      <td>2019</td>\n",
       "      <td>10 to 19 employees</td>\n",
       "      <td>Assembly</td>\n",
       "      <td>330</td>\n",
       "    </tr>\n",
       "    <tr>\n",
       "      <th>2</th>\n",
       "      <td>2019</td>\n",
       "      <td>10,000 or more employees</td>\n",
       "      <td>Assembly</td>\n",
       "      <td>613</td>\n",
       "    </tr>\n",
       "    <tr>\n",
       "      <th>3</th>\n",
       "      <td>2019</td>\n",
       "      <td>100 to 499 employees</td>\n",
       "      <td>Assembly</td>\n",
       "      <td>535</td>\n",
       "    </tr>\n",
       "    <tr>\n",
       "      <th>4</th>\n",
       "      <td>2019</td>\n",
       "      <td>2 to 9 employees</td>\n",
       "      <td>Assembly</td>\n",
       "      <td>385</td>\n",
       "    </tr>\n",
       "  </tbody>\n",
       "</table>\n",
       "</div>"
      ],
      "text/plain": [
       "   Year                   OrgSize  variable  value\n",
       "0  2019  1,000 to 4,999 employees  Assembly    338\n",
       "1  2019        10 to 19 employees  Assembly    330\n",
       "2  2019  10,000 or more employees  Assembly    613\n",
       "3  2019      100 to 499 employees  Assembly    535\n",
       "4  2019          2 to 9 employees  Assembly    385"
      ]
     },
     "execution_count": 39,
     "metadata": {},
     "output_type": "execute_result"
    }
   ],
   "source": [
    "# Same process, just adding Year column to the group\n",
    "y_lang_df = pd.concat([df.drop('LanguageWorkedWith', axis=1), df.LanguageWorkedWith.str.get_dummies(sep=';')], axis=1)\n",
    "y_lang_gb = y_lang_df.groupby(['Year', 'OrgSize'])[lang_list].sum().reset_index()\n",
    "y_lang_gb = y_lang_gb.melt(id_vars=['Year', 'OrgSize'], value_vars=lang_list)\n",
    "y_lang_gb.head()"
   ]
  },
  {
   "cell_type": "code",
   "execution_count": 40,
   "id": "d93d2687",
   "metadata": {},
   "outputs": [],
   "source": [
    "solo_comp_df = y_lang_gb[y_lang_gb['OrgSize']==solo_list]\n",
    "y_solo_comp_gb = solo_comp_df.groupby(['Year', 'variable']).value.sum().reset_index().sort_values(by='value', ascending=False)"
   ]
  },
  {
   "cell_type": "code",
   "execution_count": 41,
   "id": "ee48c297",
   "metadata": {},
   "outputs": [
    {
     "data": {
      "text/html": [
       "<div>\n",
       "<style scoped>\n",
       "    .dataframe tbody tr th:only-of-type {\n",
       "        vertical-align: middle;\n",
       "    }\n",
       "\n",
       "    .dataframe tbody tr th {\n",
       "        vertical-align: top;\n",
       "    }\n",
       "\n",
       "    .dataframe thead th {\n",
       "        text-align: right;\n",
       "    }\n",
       "</style>\n",
       "<table border=\"1\" class=\"dataframe\">\n",
       "  <thead>\n",
       "    <tr style=\"text-align: right;\">\n",
       "      <th></th>\n",
       "      <th>Year</th>\n",
       "      <th>variable</th>\n",
       "      <th>value</th>\n",
       "    </tr>\n",
       "  </thead>\n",
       "  <tbody>\n",
       "    <tr>\n",
       "      <th>14</th>\n",
       "      <td>2019</td>\n",
       "      <td>JavaScript</td>\n",
       "      <td>3222</td>\n",
       "    </tr>\n",
       "    <tr>\n",
       "      <th>11</th>\n",
       "      <td>2019</td>\n",
       "      <td>HTML/CSS</td>\n",
       "      <td>3137</td>\n",
       "    </tr>\n",
       "    <tr>\n",
       "      <th>25</th>\n",
       "      <td>2019</td>\n",
       "      <td>SQL</td>\n",
       "      <td>2422</td>\n",
       "    </tr>\n",
       "    <tr>\n",
       "      <th>19</th>\n",
       "      <td>2019</td>\n",
       "      <td>PHP</td>\n",
       "      <td>1730</td>\n",
       "    </tr>\n",
       "    <tr>\n",
       "      <th>21</th>\n",
       "      <td>2019</td>\n",
       "      <td>Python</td>\n",
       "      <td>1582</td>\n",
       "    </tr>\n",
       "  </tbody>\n",
       "</table>\n",
       "</div>"
      ],
      "text/plain": [
       "    Year    variable  value\n",
       "14  2019  JavaScript   3222\n",
       "11  2019    HTML/CSS   3137\n",
       "25  2019         SQL   2422\n",
       "19  2019         PHP   1730\n",
       "21  2019      Python   1582"
      ]
     },
     "execution_count": 41,
     "metadata": {},
     "output_type": "execute_result"
    }
   ],
   "source": [
    "y_solo_comp_gb[y_solo_comp_gb['Year']==2019].head()"
   ]
  },
  {
   "cell_type": "code",
   "execution_count": 42,
   "id": "833b9801",
   "metadata": {},
   "outputs": [
    {
     "data": {
      "text/html": [
       "<div>\n",
       "<style scoped>\n",
       "    .dataframe tbody tr th:only-of-type {\n",
       "        vertical-align: middle;\n",
       "    }\n",
       "\n",
       "    .dataframe tbody tr th {\n",
       "        vertical-align: top;\n",
       "    }\n",
       "\n",
       "    .dataframe thead th {\n",
       "        text-align: right;\n",
       "    }\n",
       "</style>\n",
       "<table border=\"1\" class=\"dataframe\">\n",
       "  <thead>\n",
       "    <tr style=\"text-align: right;\">\n",
       "      <th></th>\n",
       "      <th>Year</th>\n",
       "      <th>variable</th>\n",
       "      <th>value</th>\n",
       "    </tr>\n",
       "  </thead>\n",
       "  <tbody>\n",
       "    <tr>\n",
       "      <th>45</th>\n",
       "      <td>2020</td>\n",
       "      <td>JavaScript</td>\n",
       "      <td>1509</td>\n",
       "    </tr>\n",
       "    <tr>\n",
       "      <th>42</th>\n",
       "      <td>2020</td>\n",
       "      <td>HTML/CSS</td>\n",
       "      <td>1452</td>\n",
       "    </tr>\n",
       "    <tr>\n",
       "      <th>56</th>\n",
       "      <td>2020</td>\n",
       "      <td>SQL</td>\n",
       "      <td>1167</td>\n",
       "    </tr>\n",
       "    <tr>\n",
       "      <th>50</th>\n",
       "      <td>2020</td>\n",
       "      <td>PHP</td>\n",
       "      <td>799</td>\n",
       "    </tr>\n",
       "    <tr>\n",
       "      <th>52</th>\n",
       "      <td>2020</td>\n",
       "      <td>Python</td>\n",
       "      <td>755</td>\n",
       "    </tr>\n",
       "  </tbody>\n",
       "</table>\n",
       "</div>"
      ],
      "text/plain": [
       "    Year    variable  value\n",
       "45  2020  JavaScript   1509\n",
       "42  2020    HTML/CSS   1452\n",
       "56  2020         SQL   1167\n",
       "50  2020         PHP    799\n",
       "52  2020      Python    755"
      ]
     },
     "execution_count": 42,
     "metadata": {},
     "output_type": "execute_result"
    }
   ],
   "source": [
    "y_solo_comp_gb[y_solo_comp_gb['Year']==2020].head()"
   ]
  },
  {
   "cell_type": "code",
   "execution_count": 43,
   "id": "04e2cb7a",
   "metadata": {},
   "outputs": [
    {
     "data": {
      "text/plain": [
       "Text(0, 0.5, 'Total of respondents')"
      ]
     },
     "execution_count": 43,
     "metadata": {},
     "output_type": "execute_result"
    },
    {
     "data": {
      "image/png": "[encoded data removed]",
      "text/plain": [
       "<Figure size 1080x720 with 1 Axes>"
      ]
     },
     "metadata": {
      "needs_background": "light"
     },
     "output_type": "display_data"
    }
   ],
   "source": [
    "y_solo_comp_pivot = y_solo_comp_gb.pivot_table(index='variable', columns='Year', values='value', aggfunc='sum')\n",
    "ax = y_solo_comp_pivot.sort_values(by=2019, ascending=False).head(20).plot.bar(figsize=(15,10),\n",
    "                                                                               fontsize = 12,\n",
    "                                                                               colormap=\"Spectral\",\n",
    "                                                                               rot=90)\n",
    "ax.set_title(\"Top 20 most used programming languages between solo developers\", fontsize = 20)\n",
    "ax.set_xlabel(\"Programming language\", fontsize = 12)\n",
    "ax.set_ylabel(\"Total of respondents\", fontsize = 12)"
   ]
  },
  {
   "cell_type": "markdown",
   "id": "a7ef300a",
   "metadata": {},
   "source": [
    "Now, let's check how many programming languages did people worked with based on the company size:"
   ]
  },
  {
   "cell_type": "code",
   "execution_count": 44,
   "id": "c151f648",
   "metadata": {},
   "outputs": [
    {
     "data": {
      "text/html": [
       "<div>\n",
       "<style scoped>\n",
       "    .dataframe tbody tr th:only-of-type {\n",
       "        vertical-align: middle;\n",
       "    }\n",
       "\n",
       "    .dataframe tbody tr th {\n",
       "        vertical-align: top;\n",
       "    }\n",
       "\n",
       "    .dataframe thead th {\n",
       "        text-align: right;\n",
       "    }\n",
       "</style>\n",
       "<table border=\"1\" class=\"dataframe\">\n",
       "  <thead>\n",
       "    <tr style=\"text-align: right;\">\n",
       "      <th></th>\n",
       "      <th>Respondent</th>\n",
       "      <th>MainBranch</th>\n",
       "      <th>Hobbyist</th>\n",
       "      <th>Employment</th>\n",
       "      <th>Country</th>\n",
       "      <th>EdLevel</th>\n",
       "      <th>UndergradMajor</th>\n",
       "      <th>OrgSize</th>\n",
       "      <th>DevType</th>\n",
       "      <th>YearsCode</th>\n",
       "      <th>...</th>\n",
       "      <th>WelcomeChange</th>\n",
       "      <th>Age</th>\n",
       "      <th>Gender</th>\n",
       "      <th>Trans</th>\n",
       "      <th>Sexuality</th>\n",
       "      <th>Ethnicity</th>\n",
       "      <th>SurveyLength</th>\n",
       "      <th>SurveyEase</th>\n",
       "      <th>Year</th>\n",
       "      <th>num_languages</th>\n",
       "    </tr>\n",
       "  </thead>\n",
       "  <tbody>\n",
       "    <tr>\n",
       "      <th>0</th>\n",
       "      <td>1</td>\n",
       "      <td>I am a student who is learning to code</td>\n",
       "      <td>Yes</td>\n",
       "      <td>Not employed, and not looking for work</td>\n",
       "      <td>United Kingdom</td>\n",
       "      <td>Primary/elementary school</td>\n",
       "      <td>NaN</td>\n",
       "      <td>NaN</td>\n",
       "      <td>NaN</td>\n",
       "      <td>4</td>\n",
       "      <td>...</td>\n",
       "      <td>Just as welcome now as I felt last year</td>\n",
       "      <td>14.0</td>\n",
       "      <td>Man</td>\n",
       "      <td>No</td>\n",
       "      <td>Straight / Heterosexual</td>\n",
       "      <td>NaN</td>\n",
       "      <td>Appropriate in length</td>\n",
       "      <td>Neither easy nor difficult</td>\n",
       "      <td>2019</td>\n",
       "      <td>4</td>\n",
       "    </tr>\n",
       "    <tr>\n",
       "      <th>1</th>\n",
       "      <td>2</td>\n",
       "      <td>I am a student who is learning to code</td>\n",
       "      <td>No</td>\n",
       "      <td>Not employed, but looking for work</td>\n",
       "      <td>Bosnia and Herzegovina</td>\n",
       "      <td>Secondary school (e.g. American high school, G...</td>\n",
       "      <td>NaN</td>\n",
       "      <td>NaN</td>\n",
       "      <td>Developer, desktop or enterprise applications;...</td>\n",
       "      <td>NaN</td>\n",
       "      <td>...</td>\n",
       "      <td>Just as welcome now as I felt last year</td>\n",
       "      <td>19.0</td>\n",
       "      <td>Man</td>\n",
       "      <td>No</td>\n",
       "      <td>Straight / Heterosexual</td>\n",
       "      <td>NaN</td>\n",
       "      <td>Appropriate in length</td>\n",
       "      <td>Neither easy nor difficult</td>\n",
       "      <td>2019</td>\n",
       "      <td>3</td>\n",
       "    </tr>\n",
       "    <tr>\n",
       "      <th>2</th>\n",
       "      <td>3</td>\n",
       "      <td>I am not primarily a developer, but I write co...</td>\n",
       "      <td>Yes</td>\n",
       "      <td>Employed full-time</td>\n",
       "      <td>Thailand</td>\n",
       "      <td>Bachelor’s degree (BA, BS, B.Eng., etc.)</td>\n",
       "      <td>Web development or web design</td>\n",
       "      <td>100 to 499 employees</td>\n",
       "      <td>Designer;Developer, back-end;Developer, front-...</td>\n",
       "      <td>3</td>\n",
       "      <td>...</td>\n",
       "      <td>Just as welcome now as I felt last year</td>\n",
       "      <td>28.0</td>\n",
       "      <td>Man</td>\n",
       "      <td>No</td>\n",
       "      <td>Straight / Heterosexual</td>\n",
       "      <td>NaN</td>\n",
       "      <td>Appropriate in length</td>\n",
       "      <td>Neither easy nor difficult</td>\n",
       "      <td>2019</td>\n",
       "      <td>1</td>\n",
       "    </tr>\n",
       "    <tr>\n",
       "      <th>3</th>\n",
       "      <td>4</td>\n",
       "      <td>I am a developer by profession</td>\n",
       "      <td>No</td>\n",
       "      <td>Employed full-time</td>\n",
       "      <td>United States</td>\n",
       "      <td>Bachelor’s degree (BA, BS, B.Eng., etc.)</td>\n",
       "      <td>Computer science, computer engineering, or sof...</td>\n",
       "      <td>100 to 499 employees</td>\n",
       "      <td>Developer, full-stack</td>\n",
       "      <td>3</td>\n",
       "      <td>...</td>\n",
       "      <td>Just as welcome now as I felt last year</td>\n",
       "      <td>22.0</td>\n",
       "      <td>Man</td>\n",
       "      <td>No</td>\n",
       "      <td>Straight / Heterosexual</td>\n",
       "      <td>White or of European descent</td>\n",
       "      <td>Appropriate in length</td>\n",
       "      <td>Easy</td>\n",
       "      <td>2019</td>\n",
       "      <td>5</td>\n",
       "    </tr>\n",
       "    <tr>\n",
       "      <th>4</th>\n",
       "      <td>5</td>\n",
       "      <td>I am a developer by profession</td>\n",
       "      <td>Yes</td>\n",
       "      <td>Employed full-time</td>\n",
       "      <td>Ukraine</td>\n",
       "      <td>Bachelor’s degree (BA, BS, B.Eng., etc.)</td>\n",
       "      <td>Computer science, computer engineering, or sof...</td>\n",
       "      <td>10,000 or more employees</td>\n",
       "      <td>Academic researcher;Developer, desktop or ente...</td>\n",
       "      <td>16</td>\n",
       "      <td>...</td>\n",
       "      <td>Just as welcome now as I felt last year</td>\n",
       "      <td>30.0</td>\n",
       "      <td>Man</td>\n",
       "      <td>No</td>\n",
       "      <td>Straight / Heterosexual</td>\n",
       "      <td>White or of European descent;Multiracial</td>\n",
       "      <td>Appropriate in length</td>\n",
       "      <td>Easy</td>\n",
       "      <td>2019</td>\n",
       "      <td>7</td>\n",
       "    </tr>\n",
       "  </tbody>\n",
       "</table>\n",
       "<p>5 rows × 44 columns</p>\n",
       "</div>"
      ],
      "text/plain": [
       "   Respondent                                         MainBranch Hobbyist  \\\n",
       "0           1             I am a student who is learning to code      Yes   \n",
       "1           2             I am a student who is learning to code       No   \n",
       "2           3  I am not primarily a developer, but I write co...      Yes   \n",
       "3           4                     I am a developer by profession       No   \n",
       "4           5                     I am a developer by profession      Yes   \n",
       "\n",
       "                               Employment                 Country  \\\n",
       "0  Not employed, and not looking for work          United Kingdom   \n",
       "1      Not employed, but looking for work  Bosnia and Herzegovina   \n",
       "2                      Employed full-time                Thailand   \n",
       "3                      Employed full-time           United States   \n",
       "4                      Employed full-time                 Ukraine   \n",
       "\n",
       "                                             EdLevel  \\\n",
       "0                          Primary/elementary school   \n",
       "1  Secondary school (e.g. American high school, G...   \n",
       "2           Bachelor’s degree (BA, BS, B.Eng., etc.)   \n",
       "3           Bachelor’s degree (BA, BS, B.Eng., etc.)   \n",
       "4           Bachelor’s degree (BA, BS, B.Eng., etc.)   \n",
       "\n",
       "                                      UndergradMajor  \\\n",
       "0                                                NaN   \n",
       "1                                                NaN   \n",
       "2                      Web development or web design   \n",
       "3  Computer science, computer engineering, or sof...   \n",
       "4  Computer science, computer engineering, or sof...   \n",
       "\n",
       "                    OrgSize  \\\n",
       "0                       NaN   \n",
       "1                       NaN   \n",
       "2      100 to 499 employees   \n",
       "3      100 to 499 employees   \n",
       "4  10,000 or more employees   \n",
       "\n",
       "                                             DevType YearsCode  ...  \\\n",
       "0                                                NaN         4  ...   \n",
       "1  Developer, desktop or enterprise applications;...       NaN  ...   \n",
       "2  Designer;Developer, back-end;Developer, front-...         3  ...   \n",
       "3                              Developer, full-stack         3  ...   \n",
       "4  Academic researcher;Developer, desktop or ente...        16  ...   \n",
       "\n",
       "                             WelcomeChange   Age Gender Trans  \\\n",
       "0  Just as welcome now as I felt last year  14.0    Man    No   \n",
       "1  Just as welcome now as I felt last year  19.0    Man    No   \n",
       "2  Just as welcome now as I felt last year  28.0    Man    No   \n",
       "3  Just as welcome now as I felt last year  22.0    Man    No   \n",
       "4  Just as welcome now as I felt last year  30.0    Man    No   \n",
       "\n",
       "                 Sexuality                                 Ethnicity  \\\n",
       "0  Straight / Heterosexual                                       NaN   \n",
       "1  Straight / Heterosexual                                       NaN   \n",
       "2  Straight / Heterosexual                                       NaN   \n",
       "3  Straight / Heterosexual              White or of European descent   \n",
       "4  Straight / Heterosexual  White or of European descent;Multiracial   \n",
       "\n",
       "            SurveyLength                  SurveyEase  Year  num_languages  \n",
       "0  Appropriate in length  Neither easy nor difficult  2019              4  \n",
       "1  Appropriate in length  Neither easy nor difficult  2019              3  \n",
       "2  Appropriate in length  Neither easy nor difficult  2019              1  \n",
       "3  Appropriate in length                        Easy  2019              5  \n",
       "4  Appropriate in length                        Easy  2019              7  \n",
       "\n",
       "[5 rows x 44 columns]"
      ]
     },
     "execution_count": 44,
     "metadata": {},
     "output_type": "execute_result"
    }
   ],
   "source": [
    "# Same process, but here we'll count the number of programming languages from each respondent\n",
    "n_lang_df = pd.concat([df.drop('LanguageWorkedWith', axis=1), df.LanguageWorkedWith.str.get_dummies(sep=';')], axis=1)\n",
    "n_lang_df['num_languages'] = n_lang_df[lang_list].sum(axis=1) #Counting number of programming languages used\n",
    "n_lang_df = n_lang_df.drop(lang_list, axis=1)\n",
    "n_lang_df.head()"
   ]
  },
  {
   "cell_type": "code",
   "execution_count": 45,
   "id": "1f9c395b",
   "metadata": {},
   "outputs": [
    {
     "data": {
      "text/plain": [
       "Text(0, 0.5, 'Average number of programming languages')"
      ]
     },
     "execution_count": 45,
     "metadata": {},
     "output_type": "execute_result"
    },
    {
     "data": {
      "image/png": "[encoded data removed]",
      "text/plain": [
       "<Figure size 1080x720 with 1 Axes>"
      ]
     },
     "metadata": {
      "needs_background": "light"
     },
     "output_type": "display_data"
    }
   ],
   "source": [
    "n_lang_pivot = n_lang_df.pivot_table(index='OrgSize', columns='Year', values='num_languages', aggfunc='mean')\n",
    "n_lang_pivot = n_lang_pivot.sort_values(by=2019, ascending=False)\n",
    "ax = n_lang_pivot.plot.bar(figsize=(15,10),\n",
    "                           fontsize = 12,\n",
    "                           colormap=\"Spectral\",\n",
    "                           rot=45)\n",
    "ax.set_title(\"Average number of programming languages used by respondents\", fontsize = 20)\n",
    "ax.set_xlabel(\"Company size\", fontsize = 12)\n",
    "ax.set_ylabel(\"Average number of programming languages\", fontsize = 12)"
   ]
  },
  {
   "cell_type": "markdown",
   "id": "f733d351",
   "metadata": {},
   "source": [
    "Noticible things we found here:\n",
    "- Javascript, HTML/CSS, SQL, Java and Python appears to be the top 5 programming languages in general, but people who work solo used more PHP than Java and Python\n",
    "- Coding solo or in small companies requires more programming languages than large and medium companies in general\n",
    "- About 5 programming languages were used by the respondents which worked solo"
   ]
  },
  {
   "cell_type": "markdown",
   "id": "7b0c4754",
   "metadata": {},
   "source": [
    "## How many years of coding is needed to work solo?"
   ]
  },
  {
   "cell_type": "markdown",
   "id": "cbe11f16",
   "metadata": {},
   "source": [
    "Ok, now that we know the most popular coding languages used in large companies, let's find out how much time do people who work in large companies coded before:"
   ]
  },
  {
   "cell_type": "code",
   "execution_count": 46,
   "id": "41b3fca0",
   "metadata": {},
   "outputs": [],
   "source": [
    "coding_years = df[df['YearsCode'].notnull()].reset_index(drop=True) # removing rows with missing YearsCode variable"
   ]
  },
  {
   "cell_type": "code",
   "execution_count": 47,
   "id": "3c1162ad",
   "metadata": {},
   "outputs": [],
   "source": [
    "coding_years['YearsCode'] = coding_years['YearsCode'].astype(int) # now we can change the datatype to integer"
   ]
  },
  {
   "cell_type": "code",
   "execution_count": 48,
   "id": "48b32c58",
   "metadata": {},
   "outputs": [
    {
     "data": {
      "text/plain": [
       "<AxesSubplot:>"
      ]
     },
     "execution_count": 48,
     "metadata": {},
     "output_type": "execute_result"
    },
    {
     "data": {
      "image/png": "[encoded data removed]",
      "text/plain": [
       "<Figure size 432x288 with 2 Axes>"
      ]
     },
     "metadata": {
      "needs_background": "light"
     },
     "output_type": "display_data"
    }
   ],
   "source": [
    "sns.heatmap(coding_years.corr(), annot=True, fmt=\".2f\")"
   ]
  },
  {
   "cell_type": "markdown",
   "id": "f5d11861",
   "metadata": {},
   "source": [
    "As we could see above, years of coding is highly correlated to the age of the respondent. Let's check the most common years of coding:"
   ]
  },
  {
   "cell_type": "code",
   "execution_count": 49,
   "id": "f9d3dffb",
   "metadata": {},
   "outputs": [
    {
     "data": {
      "text/plain": [
       "5     11296\n",
       "10    11287\n",
       "6     10013\n",
       "4      8983\n",
       "7      8797\n",
       "Name: YearsCode, dtype: int64"
      ]
     },
     "execution_count": 49,
     "metadata": {},
     "output_type": "execute_result"
    }
   ],
   "source": [
    "df.YearsCode.value_counts().head()"
   ]
  },
  {
   "cell_type": "code",
   "execution_count": 50,
   "id": "b01669f6",
   "metadata": {},
   "outputs": [],
   "source": [
    "coding_df = coding_years[coding_years['OrgSize'].notnull()].reset_index(drop=True)"
   ]
  },
  {
   "cell_type": "code",
   "execution_count": 51,
   "id": "b703dec1",
   "metadata": {},
   "outputs": [
    {
     "data": {
      "text/plain": [
       "Text(0, 0.5, 'Average years of coding')"
      ]
     },
     "execution_count": 51,
     "metadata": {},
     "output_type": "execute_result"
    },
    {
     "data": {
      "image/png": "[encoded data removed]",
      "text/plain": [
       "<Figure size 1080x720 with 1 Axes>"
      ]
     },
     "metadata": {
      "needs_background": "light"
     },
     "output_type": "display_data"
    }
   ],
   "source": [
    "coding_pivot = coding_df.pivot_table(index='OrgSize', columns='Year', values='YearsCode', aggfunc='mean')\n",
    "coding_pivot = coding_pivot.sort_values(by=2019, ascending=False)\n",
    "ax = coding_pivot.plot.bar(figsize=(15,10),\n",
    "                           fontsize = 12,\n",
    "                           colormap=\"Spectral\",\n",
    "                           rot=45)\n",
    "ax.set_title(\"Average years of coding per organization size\", fontsize = 20)\n",
    "ax.set_xlabel(\"Company size\", fontsize = 12)\n",
    "ax.set_ylabel(\"Average years of coding\", fontsize = 12)"
   ]
  },
  {
   "cell_type": "code",
   "execution_count": 52,
   "id": "111f5894",
   "metadata": {},
   "outputs": [
    {
     "data": {
      "text/plain": [
       "Text(0, 0.5, 'Median years of coding')"
      ]
     },
     "execution_count": 52,
     "metadata": {},
     "output_type": "execute_result"
    },
    {
     "data": {
      "image/png": "[encoded data removed]",
      "text/plain": [
       "<Figure size 1080x720 with 1 Axes>"
      ]
     },
     "metadata": {
      "needs_background": "light"
     },
     "output_type": "display_data"
    }
   ],
   "source": [
    "coding_pivot = coding_df.pivot_table(index='OrgSize', columns='Year', values='YearsCode', aggfunc='median')\n",
    "coding_pivot = coding_pivot.sort_values(by=2019, ascending=False)\n",
    "ax = coding_pivot.plot.bar(figsize=(15,10),\n",
    "                           fontsize = 12,\n",
    "                           colormap=\"Spectral\",\n",
    "                           rot=45)\n",
    "ax.set_title(\"Median years of coding per organization size\", fontsize = 20)\n",
    "ax.set_xlabel(\"Company size\", fontsize = 12)\n",
    "ax.set_ylabel(\"Median years of coding\", fontsize = 12)"
   ]
  },
  {
   "cell_type": "markdown",
   "id": "c399c790",
   "metadata": {},
   "source": [
    "Some interesting points we could see here:\n",
    "- In general, people working in large companies have more years of coding experience when compared to small companies\n",
    "- The years of coding average have increased from 2019 to 2020\n",
    "- People who work solo appears to have more years of coding experience\n",
    "- People who work solo have in average more than 17 years of coding"
   ]
  },
  {
   "cell_type": "markdown",
   "id": "01dd4200",
   "metadata": {},
   "source": [
    "## Which kind of dev usualy work sole?"
   ]
  },
  {
   "cell_type": "markdown",
   "id": "64beff85",
   "metadata": {},
   "source": [
    "As DevType is a multiple choice question, we need to use the same process we used to get the programming languages for each respondent:"
   ]
  },
  {
   "cell_type": "code",
   "execution_count": 53,
   "id": "c22103c5",
   "metadata": {},
   "outputs": [],
   "source": [
    "dev_list = df.DevType.str.get_dummies(sep=';').columns # list of programming languages"
   ]
  },
  {
   "cell_type": "code",
   "execution_count": 54,
   "id": "e889a4a1",
   "metadata": {},
   "outputs": [
    {
     "data": {
      "text/html": [
       "<div>\n",
       "<style scoped>\n",
       "    .dataframe tbody tr th:only-of-type {\n",
       "        vertical-align: middle;\n",
       "    }\n",
       "\n",
       "    .dataframe tbody tr th {\n",
       "        vertical-align: top;\n",
       "    }\n",
       "\n",
       "    .dataframe thead th {\n",
       "        text-align: right;\n",
       "    }\n",
       "</style>\n",
       "<table border=\"1\" class=\"dataframe\">\n",
       "  <thead>\n",
       "    <tr style=\"text-align: right;\">\n",
       "      <th></th>\n",
       "      <th>Year</th>\n",
       "      <th>OrgSize</th>\n",
       "      <th>variable</th>\n",
       "      <th>value</th>\n",
       "    </tr>\n",
       "  </thead>\n",
       "  <tbody>\n",
       "    <tr>\n",
       "      <th>0</th>\n",
       "      <td>2019</td>\n",
       "      <td>1,000 to 4,999 employees</td>\n",
       "      <td>Academic researcher</td>\n",
       "      <td>589</td>\n",
       "    </tr>\n",
       "    <tr>\n",
       "      <th>1</th>\n",
       "      <td>2019</td>\n",
       "      <td>10 to 19 employees</td>\n",
       "      <td>Academic researcher</td>\n",
       "      <td>419</td>\n",
       "    </tr>\n",
       "    <tr>\n",
       "      <th>2</th>\n",
       "      <td>2019</td>\n",
       "      <td>10,000 or more employees</td>\n",
       "      <td>Academic researcher</td>\n",
       "      <td>592</td>\n",
       "    </tr>\n",
       "    <tr>\n",
       "      <th>3</th>\n",
       "      <td>2019</td>\n",
       "      <td>100 to 499 employees</td>\n",
       "      <td>Academic researcher</td>\n",
       "      <td>632</td>\n",
       "    </tr>\n",
       "    <tr>\n",
       "      <th>4</th>\n",
       "      <td>2019</td>\n",
       "      <td>2 to 9 employees</td>\n",
       "      <td>Academic researcher</td>\n",
       "      <td>531</td>\n",
       "    </tr>\n",
       "  </tbody>\n",
       "</table>\n",
       "</div>"
      ],
      "text/plain": [
       "   Year                   OrgSize             variable  value\n",
       "0  2019  1,000 to 4,999 employees  Academic researcher    589\n",
       "1  2019        10 to 19 employees  Academic researcher    419\n",
       "2  2019  10,000 or more employees  Academic researcher    592\n",
       "3  2019      100 to 499 employees  Academic researcher    632\n",
       "4  2019          2 to 9 employees  Academic researcher    531"
      ]
     },
     "execution_count": 54,
     "metadata": {},
     "output_type": "execute_result"
    }
   ],
   "source": [
    "dev_df = pd.concat([df.drop('DevType', axis=1), df.DevType.str.get_dummies(sep=';')], axis=1)\n",
    "dev_gb = dev_df.groupby(['Year', 'OrgSize'])[dev_list].sum().reset_index()\n",
    "dev_gb = dev_gb.melt(id_vars=['Year', 'OrgSize'], value_vars=dev_list)\n",
    "dev_gb.head()"
   ]
  },
  {
   "cell_type": "code",
   "execution_count": 55,
   "id": "e4755b41",
   "metadata": {},
   "outputs": [
    {
     "data": {
      "text/plain": [
       "<AxesSubplot:xlabel='variable'>"
      ]
     },
     "execution_count": 55,
     "metadata": {},
     "output_type": "execute_result"
    },
    {
     "data": {
      "image/png": "[encoded data removed]",
      "text/plain": [
       "<Figure size 1080x720 with 1 Axes>"
      ]
     },
     "metadata": {
      "needs_background": "light"
     },
     "output_type": "display_data"
    }
   ],
   "source": [
    "dev_solo_gb = dev_gb[dev_gb['OrgSize']==solo_list]\n",
    "dev_solo_pivot = dev_solo_gb.pivot_table(index='variable', columns='Year', values='value', aggfunc='sum')\n",
    "dev_solo_pivot.sort_values(by=2019, ascending=False).plot.bar(figsize=(15,10))"
   ]
  },
  {
   "cell_type": "markdown",
   "id": "6fc11cd7",
   "metadata": {},
   "source": [
    "Based on the graph above, full-stack and back-end developers appear to be the most common dev type to work solo."
   ]
  },
  {
   "cell_type": "markdown",
   "id": "aea27e29",
   "metadata": {},
   "source": [
    "# Data Modeling"
   ]
  },
  {
   "cell_type": "markdown",
   "id": "73b8fc5c",
   "metadata": {},
   "source": [
    "## Can we predict how many years have a developer been coding, based on other variables?"
   ]
  },
  {
   "cell_type": "markdown",
   "id": "4d77b7ba",
   "metadata": {},
   "source": [
    "For this extra topic, we'll try to predict the years of coding of a developer, based on other columns we explored before. Below I seppareted some columns for this model:"
   ]
  },
  {
   "cell_type": "code",
   "execution_count": 56,
   "id": "4f7d5fac",
   "metadata": {},
   "outputs": [],
   "source": [
    "df_mod = df[['Year', \n",
    "             'Age', # we saw that age is highly correlated to YearsCode\n",
    "             'MainBranch', \n",
    "             'Employment', \n",
    "             'EdLevel', \n",
    "             'DevType', \n",
    "             'LanguageWorkedWith', \n",
    "             'OrgSize', \n",
    "             'ConvertedComp', \n",
    "             'YearsCode' # this is the variable we want to predict\n",
    "            ]]"
   ]
  },
  {
   "cell_type": "markdown",
   "id": "ae59c865",
   "metadata": {},
   "source": [
    "So, we already know that LanguageWorkedWith and DevType have multple choices, so we need to dummy them first:"
   ]
  },
  {
   "cell_type": "code",
   "execution_count": 57,
   "id": "f652db09",
   "metadata": {},
   "outputs": [
    {
     "data": {
      "text/html": [
       "<div>\n",
       "<style scoped>\n",
       "    .dataframe tbody tr th:only-of-type {\n",
       "        vertical-align: middle;\n",
       "    }\n",
       "\n",
       "    .dataframe tbody tr th {\n",
       "        vertical-align: top;\n",
       "    }\n",
       "\n",
       "    .dataframe thead th {\n",
       "        text-align: right;\n",
       "    }\n",
       "</style>\n",
       "<table border=\"1\" class=\"dataframe\">\n",
       "  <thead>\n",
       "    <tr style=\"text-align: right;\">\n",
       "      <th></th>\n",
       "      <th>Year</th>\n",
       "      <th>Age</th>\n",
       "      <th>MainBranch</th>\n",
       "      <th>Employment</th>\n",
       "      <th>EdLevel</th>\n",
       "      <th>OrgSize</th>\n",
       "      <th>ConvertedComp</th>\n",
       "      <th>YearsCode</th>\n",
       "      <th>Academic researcher</th>\n",
       "      <th>Data or business analyst</th>\n",
       "      <th>...</th>\n",
       "      <th>Python</th>\n",
       "      <th>R</th>\n",
       "      <th>Ruby</th>\n",
       "      <th>Rust</th>\n",
       "      <th>SQL</th>\n",
       "      <th>Scala</th>\n",
       "      <th>Swift</th>\n",
       "      <th>TypeScript</th>\n",
       "      <th>VBA</th>\n",
       "      <th>WebAssembly</th>\n",
       "    </tr>\n",
       "  </thead>\n",
       "  <tbody>\n",
       "    <tr>\n",
       "      <th>0</th>\n",
       "      <td>2019</td>\n",
       "      <td>14.0</td>\n",
       "      <td>I am a student who is learning to code</td>\n",
       "      <td>Not employed, and not looking for work</td>\n",
       "      <td>Primary/elementary school</td>\n",
       "      <td>NaN</td>\n",
       "      <td>NaN</td>\n",
       "      <td>4</td>\n",
       "      <td>0</td>\n",
       "      <td>0</td>\n",
       "      <td>...</td>\n",
       "      <td>1</td>\n",
       "      <td>0</td>\n",
       "      <td>0</td>\n",
       "      <td>0</td>\n",
       "      <td>0</td>\n",
       "      <td>0</td>\n",
       "      <td>0</td>\n",
       "      <td>0</td>\n",
       "      <td>0</td>\n",
       "      <td>0</td>\n",
       "    </tr>\n",
       "    <tr>\n",
       "      <th>1</th>\n",
       "      <td>2019</td>\n",
       "      <td>19.0</td>\n",
       "      <td>I am a student who is learning to code</td>\n",
       "      <td>Not employed, but looking for work</td>\n",
       "      <td>Secondary school (e.g. American high school, G...</td>\n",
       "      <td>NaN</td>\n",
       "      <td>NaN</td>\n",
       "      <td>NaN</td>\n",
       "      <td>0</td>\n",
       "      <td>0</td>\n",
       "      <td>...</td>\n",
       "      <td>1</td>\n",
       "      <td>0</td>\n",
       "      <td>0</td>\n",
       "      <td>0</td>\n",
       "      <td>0</td>\n",
       "      <td>0</td>\n",
       "      <td>0</td>\n",
       "      <td>0</td>\n",
       "      <td>0</td>\n",
       "      <td>0</td>\n",
       "    </tr>\n",
       "    <tr>\n",
       "      <th>2</th>\n",
       "      <td>2019</td>\n",
       "      <td>28.0</td>\n",
       "      <td>I am not primarily a developer, but I write co...</td>\n",
       "      <td>Employed full-time</td>\n",
       "      <td>Bachelor’s degree (BA, BS, B.Eng., etc.)</td>\n",
       "      <td>100 to 499 employees</td>\n",
       "      <td>8820.0</td>\n",
       "      <td>3</td>\n",
       "      <td>0</td>\n",
       "      <td>0</td>\n",
       "      <td>...</td>\n",
       "      <td>0</td>\n",
       "      <td>0</td>\n",
       "      <td>0</td>\n",
       "      <td>0</td>\n",
       "      <td>0</td>\n",
       "      <td>0</td>\n",
       "      <td>0</td>\n",
       "      <td>0</td>\n",
       "      <td>0</td>\n",
       "      <td>0</td>\n",
       "    </tr>\n",
       "    <tr>\n",
       "      <th>3</th>\n",
       "      <td>2019</td>\n",
       "      <td>22.0</td>\n",
       "      <td>I am a developer by profession</td>\n",
       "      <td>Employed full-time</td>\n",
       "      <td>Bachelor’s degree (BA, BS, B.Eng., etc.)</td>\n",
       "      <td>100 to 499 employees</td>\n",
       "      <td>61000.0</td>\n",
       "      <td>3</td>\n",
       "      <td>0</td>\n",
       "      <td>0</td>\n",
       "      <td>...</td>\n",
       "      <td>1</td>\n",
       "      <td>0</td>\n",
       "      <td>0</td>\n",
       "      <td>0</td>\n",
       "      <td>1</td>\n",
       "      <td>0</td>\n",
       "      <td>0</td>\n",
       "      <td>0</td>\n",
       "      <td>0</td>\n",
       "      <td>0</td>\n",
       "    </tr>\n",
       "    <tr>\n",
       "      <th>4</th>\n",
       "      <td>2019</td>\n",
       "      <td>30.0</td>\n",
       "      <td>I am a developer by profession</td>\n",
       "      <td>Employed full-time</td>\n",
       "      <td>Bachelor’s degree (BA, BS, B.Eng., etc.)</td>\n",
       "      <td>10,000 or more employees</td>\n",
       "      <td>NaN</td>\n",
       "      <td>16</td>\n",
       "      <td>1</td>\n",
       "      <td>0</td>\n",
       "      <td>...</td>\n",
       "      <td>1</td>\n",
       "      <td>0</td>\n",
       "      <td>0</td>\n",
       "      <td>0</td>\n",
       "      <td>1</td>\n",
       "      <td>0</td>\n",
       "      <td>0</td>\n",
       "      <td>0</td>\n",
       "      <td>1</td>\n",
       "      <td>0</td>\n",
       "    </tr>\n",
       "  </tbody>\n",
       "</table>\n",
       "<p>5 rows × 63 columns</p>\n",
       "</div>"
      ],
      "text/plain": [
       "   Year   Age                                         MainBranch  \\\n",
       "0  2019  14.0             I am a student who is learning to code   \n",
       "1  2019  19.0             I am a student who is learning to code   \n",
       "2  2019  28.0  I am not primarily a developer, but I write co...   \n",
       "3  2019  22.0                     I am a developer by profession   \n",
       "4  2019  30.0                     I am a developer by profession   \n",
       "\n",
       "                               Employment  \\\n",
       "0  Not employed, and not looking for work   \n",
       "1      Not employed, but looking for work   \n",
       "2                      Employed full-time   \n",
       "3                      Employed full-time   \n",
       "4                      Employed full-time   \n",
       "\n",
       "                                             EdLevel  \\\n",
       "0                          Primary/elementary school   \n",
       "1  Secondary school (e.g. American high school, G...   \n",
       "2           Bachelor’s degree (BA, BS, B.Eng., etc.)   \n",
       "3           Bachelor’s degree (BA, BS, B.Eng., etc.)   \n",
       "4           Bachelor’s degree (BA, BS, B.Eng., etc.)   \n",
       "\n",
       "                    OrgSize  ConvertedComp YearsCode  Academic researcher  \\\n",
       "0                       NaN            NaN         4                    0   \n",
       "1                       NaN            NaN       NaN                    0   \n",
       "2      100 to 499 employees         8820.0         3                    0   \n",
       "3      100 to 499 employees        61000.0         3                    0   \n",
       "4  10,000 or more employees            NaN        16                    1   \n",
       "\n",
       "   Data or business analyst  ...  Python  R  Ruby  Rust  SQL  Scala  Swift  \\\n",
       "0                         0  ...       1  0     0     0    0      0      0   \n",
       "1                         0  ...       1  0     0     0    0      0      0   \n",
       "2                         0  ...       0  0     0     0    0      0      0   \n",
       "3                         0  ...       1  0     0     0    1      0      0   \n",
       "4                         0  ...       1  0     0     0    1      0      0   \n",
       "\n",
       "   TypeScript  VBA  WebAssembly  \n",
       "0           0    0            0  \n",
       "1           0    0            0  \n",
       "2           0    0            0  \n",
       "3           0    0            0  \n",
       "4           0    1            0  \n",
       "\n",
       "[5 rows x 63 columns]"
      ]
     },
     "execution_count": 57,
     "metadata": {},
     "output_type": "execute_result"
    }
   ],
   "source": [
    "df_mod = pd.concat([df_mod.drop('DevType', axis=1), df_mod.DevType.str.get_dummies(sep=';')], axis=1)\n",
    "df_mod = pd.concat([df_mod.drop('LanguageWorkedWith', axis=1), df_mod.LanguageWorkedWith.str.get_dummies(sep=';')], axis=1)\n",
    "df_mod.head()"
   ]
  },
  {
   "cell_type": "markdown",
   "id": "fbb56de0",
   "metadata": {},
   "source": [
    "Also, we only want respondents with YearsCode not null:"
   ]
  },
  {
   "cell_type": "code",
   "execution_count": 58,
   "id": "f4d5562a",
   "metadata": {},
   "outputs": [],
   "source": [
    "df_mod = df_mod[df_mod['YearsCode'].notnull()]\n",
    "df_mod['YearsCode'] = df_mod['YearsCode'].astype(int) #turning into integer"
   ]
  },
  {
   "cell_type": "code",
   "execution_count": 59,
   "id": "74ed6c32",
   "metadata": {},
   "outputs": [],
   "source": [
    "#Drop Years of code as we want to predict it\n",
    "df_mod_x = df_mod.drop(['YearsCode'], axis=1)\n",
    "\n",
    "# Fill numeric columns with the mean\n",
    "num_vars = df_mod_x.select_dtypes(include=['float', 'int']).columns\n",
    "for col in num_vars:\n",
    "    df_mod_x[col].fillna((df_mod_x[col].mean()), inplace=True)\n",
    "\n",
    "# Dummy the categorical variables and drop original columns\n",
    "cat_vars = df_mod_x.select_dtypes(include=['object']).columns\n",
    "for var in cat_vars:\n",
    "    df_mod_x = pd.concat([df_mod_x.drop(var, axis=1), pd.get_dummies(df_mod_x[var], prefix=var, drop_first=True)], axis=1)\n",
    "\n",
    "# Finding X and y\n",
    "X = df_mod_x\n",
    "y = df_mod['YearsCode']"
   ]
  },
  {
   "cell_type": "code",
   "execution_count": 60,
   "id": "d6d05c51",
   "metadata": {},
   "outputs": [],
   "source": [
    "# Splitting data into train and test\n",
    "X_train, X_test, y_train, y_test = train_test_split(X, y, test_size = .30, random_state=42)\n",
    "\n",
    "# Instantiate\n",
    "lm_model = LinearRegression(normalize=True) \n",
    "\n",
    "#Fit\n",
    "lm_model.fit(X_train, y_train) \n",
    "\n",
    "#Predict using your model\n",
    "y_test_preds = lm_model.predict(X_test)"
   ]
  },
  {
   "cell_type": "code",
   "execution_count": 61,
   "id": "71e5709c",
   "metadata": {},
   "outputs": [
    {
     "data": {
      "text/plain": [
       "0.5796754292999421"
      ]
     },
     "execution_count": 61,
     "metadata": {},
     "output_type": "execute_result"
    }
   ],
   "source": [
    "#Score using your model\n",
    "r2score = r2_score(y_test, y_test_preds)\n",
    "r2score"
   ]
  },
  {
   "cell_type": "markdown",
   "id": "8b33a1cb",
   "metadata": {},
   "source": [
    "So for this first attempt, we got a score of 58%, which is not the best, but could be optimized on future improvements. \n",
    "This notebook was focused on the analysis regarding solo developers, but we could see that it's possible to implement a model with other variables to predict the years of coding experience."
   ]
  },
  {
   "cell_type": "code",
   "execution_count": 62,
   "id": "342dff23",
   "metadata": {},
   "outputs": [
    {
     "data": {
      "text/html": [
       "<div>\n",
       "<style scoped>\n",
       "    .dataframe tbody tr th:only-of-type {\n",
       "        vertical-align: middle;\n",
       "    }\n",
       "\n",
       "    .dataframe tbody tr th {\n",
       "        vertical-align: top;\n",
       "    }\n",
       "\n",
       "    .dataframe thead th {\n",
       "        text-align: right;\n",
       "    }\n",
       "</style>\n",
       "<table border=\"1\" class=\"dataframe\">\n",
       "  <thead>\n",
       "    <tr style=\"text-align: right;\">\n",
       "      <th></th>\n",
       "      <th>actual</th>\n",
       "      <th>preds</th>\n",
       "      <th>diff</th>\n",
       "    </tr>\n",
       "  </thead>\n",
       "  <tbody>\n",
       "    <tr>\n",
       "      <th>0</th>\n",
       "      <td>15.0</td>\n",
       "      <td>13.920179</td>\n",
       "      <td>1.079821</td>\n",
       "    </tr>\n",
       "    <tr>\n",
       "      <th>1</th>\n",
       "      <td>18.0</td>\n",
       "      <td>11.822497</td>\n",
       "      <td>6.177503</td>\n",
       "    </tr>\n",
       "    <tr>\n",
       "      <th>2</th>\n",
       "      <td>2.0</td>\n",
       "      <td>5.076115</td>\n",
       "      <td>-3.076115</td>\n",
       "    </tr>\n",
       "    <tr>\n",
       "      <th>3</th>\n",
       "      <td>2.0</td>\n",
       "      <td>16.189921</td>\n",
       "      <td>-14.189921</td>\n",
       "    </tr>\n",
       "    <tr>\n",
       "      <th>4</th>\n",
       "      <td>11.0</td>\n",
       "      <td>11.632852</td>\n",
       "      <td>-0.632852</td>\n",
       "    </tr>\n",
       "  </tbody>\n",
       "</table>\n",
       "</div>"
      ],
      "text/plain": [
       "   actual      preds       diff\n",
       "0    15.0  13.920179   1.079821\n",
       "1    18.0  11.822497   6.177503\n",
       "2     2.0   5.076115  -3.076115\n",
       "3     2.0  16.189921 -14.189921\n",
       "4    11.0  11.632852  -0.632852"
      ]
     },
     "execution_count": 62,
     "metadata": {},
     "output_type": "execute_result"
    }
   ],
   "source": [
    "# Comparing prediction x actual \n",
    "# here I took the code from this notebook as a reference:\n",
    "# https://github.com/jjrunner/stackoverflow/blob/master/PredictSalary.ipynb\n",
    "preds_vs_act = pd.DataFrame(np.hstack([y_test.values.reshape(y_test.size,1), y_test_preds.reshape(y_test.size,1)]))\n",
    "preds_vs_act.columns = ['actual', 'preds']\n",
    "preds_vs_act['diff'] = preds_vs_act['actual'] - preds_vs_act['preds']\n",
    "preds_vs_act.head()"
   ]
  },
  {
   "cell_type": "code",
   "execution_count": 63,
   "id": "008ffff0",
   "metadata": {},
   "outputs": [
    {
     "data": {
      "image/png": "[encoded data removed]",
      "text/plain": [
       "<Figure size 432x288 with 1 Axes>"
      ]
     },
     "metadata": {
      "needs_background": "light"
     },
     "output_type": "display_data"
    }
   ],
   "source": [
    "plt.plot(preds_vs_act['preds'], preds_vs_act['diff'], 'bo');\n",
    "plt.xlabel('predicted');\n",
    "plt.ylabel('difference');"
   ]
  }
 ],
 "metadata": {
  "kernelspec": {
   "display_name": "Python 3 (ipykernel)",
   "language": "python",
   "name": "python3"
  },
  "language_info": {
   "codemirror_mode": {
    "name": "ipython",
    "version": 3
   },
   "file_extension": ".py",
   "mimetype": "text/x-python",
   "name": "python",
   "nbconvert_exporter": "python",
   "pygments_lexer": "ipython3",
   "version": "3.9.7"
  }
 },
 "nbformat": 4,
 "nbformat_minor": 5
}
